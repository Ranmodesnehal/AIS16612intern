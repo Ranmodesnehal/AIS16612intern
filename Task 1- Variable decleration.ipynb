{
 "cells": [
  {
   "cell_type": "markdown",
   "id": "d786b5fa-03e3-4dda-b5a0-c0da2e36063c",
   "metadata": {},
   "source": [
    "# Rules for variables"
   ]
  },
  {
   "cell_type": "markdown",
   "id": "b5122b1e-0e89-4c80-a0b9-7f03af3ac952",
   "metadata": {},
   "source": [
    "* A variable name must start with a letter or the underscore character.\n",
    "* A variable name cannot start with a number.\n",
    "* A variable name can only contain alpha-numeric characters and underscores (A-z, 0-9, and _ )\n",
    "* Variable names are case-sensitive (age, Age and AGE are three different variables)"
   ]
  },
  {
   "cell_type": "code",
   "execution_count": 19,
   "id": "50542fbf-d5cc-44ab-b4a0-b478c3fb5661",
   "metadata": {},
   "outputs": [
    {
     "name": "stdout",
     "output_type": "stream",
     "text": [
      "Name_of_student\n",
      "Snehal\n",
      "<class 'str'>\n"
     ]
    }
   ],
   "source": [
    "#Example\n",
    "x=\"Name_of_student\"\n",
    "y=\"Snehal\"\n",
    "print(x)\n",
    "print(y)"
   ]
  },
  {
   "cell_type": "code",
   "execution_count": 20,
   "id": "918ea30c-362e-4b40-8b63-56e2c60bc4c4",
   "metadata": {},
   "outputs": [
    {
     "name": "stdout",
     "output_type": "stream",
     "text": [
      "5\n",
      "Roll_number\n",
      "<class 'int'>\n",
      "<class 'str'>\n"
     ]
    }
   ],
   "source": [
    "a=5\n",
    "b=\"Roll_number\"\n",
    "print(a)\n",
    "print(b)\n",
    "print(type(a))\n",
    "print(type(b))"
   ]
  },
  {
   "cell_type": "code",
   "execution_count": 2,
   "id": "f2307330-0f4f-4aa4-93a4-802cf59839de",
   "metadata": {},
   "outputs": [
    {
     "name": "stdout",
     "output_type": "stream",
     "text": [
      "snehal\n"
     ]
    }
   ],
   "source": [
    "y1=\"snehal\"\n",
    "print(y1)"
   ]
  },
  {
   "cell_type": "code",
   "execution_count": null,
   "id": "bb3bce5f-63a7-4c0a-8447-b0675e089b4d",
   "metadata": {},
   "outputs": [],
   "source": []
  }
 ],
 "metadata": {
  "kernelspec": {
   "display_name": "Python 3 (ipykernel)",
   "language": "python",
   "name": "python3"
  },
  "language_info": {
   "codemirror_mode": {
    "name": "ipython",
    "version": 3
   },
   "file_extension": ".py",
   "mimetype": "text/x-python",
   "name": "python",
   "nbconvert_exporter": "python",
   "pygments_lexer": "ipython3",
   "version": "3.11.7"
  }
 },
 "nbformat": 4,
 "nbformat_minor": 5
}
