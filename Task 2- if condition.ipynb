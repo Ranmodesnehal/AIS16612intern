{
 "cells": [
  {
   "cell_type": "markdown",
   "id": "55e20184-8920-4e45-941e-1461c2807766",
   "metadata": {},
   "source": [
    "# If statements"
   ]
  },
  {
   "cell_type": "markdown",
   "id": "d8415eba-99b2-41c2-8848-48bb9e8bae25",
   "metadata": {},
   "source": [
    "Python supports the usual logical conditions from mathematics:  \n",
    "\n",
    "Equals: a == b   \n",
    "Not Equals: a != b   \n",
    "Less than: a < b   \n",
    "Less than or equal to: a <= b   \n",
    "Greater than: a > b   \n",
    "Greater than or equal to: a >= b   \n",
    "\n",
    "These conditions can be used in several ways, most commonly in \"if statements\" and loops.   \n",
    "An \"if statement\" is written by using the if keyword.  cution.\n"
   ]
  },
  {
   "cell_type": "markdown",
   "id": "69332408-6e65-4a5e-955c-e08b1a5e6bfc",
   "metadata": {},
   "source": [
    "* Syntax   \n",
    "if condition:  \n",
    "    #body of if statement  \n",
    "\n",
    "Here, if the condition of the if statement is:  \n",
    "True - the body of the if statement executes.  \n",
    "False - the body of the if statement is skipped from execution.   \n"
   ]
  },
  {
   "cell_type": "code",
   "execution_count": 1,
   "id": "8ee6d9e7-a5f1-4061-a85b-ff22c4486409",
   "metadata": {},
   "outputs": [
    {
     "name": "stdout",
     "output_type": "stream",
     "text": [
      "b is greater than a\n"
     ]
    }
   ],
   "source": [
    "#1.Example\n",
    "a = 33\n",
    "b = 200\n",
    "if b > a:\n",
    "  print(\"b is greater than a\")"
   ]
  },
  {
   "cell_type": "code",
   "execution_count": 3,
   "id": "c19cb9f0-fd4b-4713-9154-dccb459002d6",
   "metadata": {},
   "outputs": [
    {
     "name": "stdout",
     "output_type": "stream",
     "text": [
      "a is greater than b\n"
     ]
    }
   ],
   "source": [
    "#2. Example\n",
    "a=200\n",
    "b=33\n",
    "if b < a:\n",
    "    print(\"a is greater than b\")\n"
   ]
  },
  {
   "cell_type": "code",
   "execution_count": 4,
   "id": "6bd3ab93-25a6-4a67-9c9d-e0947e0323de",
   "metadata": {},
   "outputs": [],
   "source": [
    "# 3.Example\n",
    "a = 33\n",
    "b = 200\n",
    "if a > b:\n",
    "  print(\"a is greater than b\")"
   ]
  },
  {
   "cell_type": "code",
   "execution_count": 6,
   "id": "744cc701-3368-46ba-904a-3af1c54e14df",
   "metadata": {},
   "outputs": [],
   "source": [
    "# 4.Example\n",
    "a = 33\n",
    "if (a==30):\n",
    "  print(\"True\")"
   ]
  },
  {
   "cell_type": "code",
   "execution_count": 7,
   "id": "ed05a2bd-1502-4072-983d-ea820ee8c656",
   "metadata": {},
   "outputs": [
    {
     "name": "stdout",
     "output_type": "stream",
     "text": [
      "True\n"
     ]
    }
   ],
   "source": [
    "# 5.Example\n",
    "a = 30\n",
    "if (a==30):\n",
    "  print(\"True\")"
   ]
  },
  {
   "cell_type": "code",
   "execution_count": 8,
   "id": "a2f9ba24-40c0-4c4e-a361-20cd8b21d76c",
   "metadata": {},
   "outputs": [
    {
     "name": "stdout",
     "output_type": "stream",
     "text": [
      "Number is positive\n"
     ]
    }
   ],
   "source": [
    "# 6.Example\n",
    "number=12\n",
    "if number > 0:\n",
    "    print('Number is positive')"
   ]
  },
  {
   "cell_type": "code",
   "execution_count": 17,
   "id": "f134519a-148c-469a-916d-96256039f25b",
   "metadata": {},
   "outputs": [
    {
     "name": "stdout",
     "output_type": "stream",
     "text": [
      "a and b are equal\n"
     ]
    }
   ],
   "source": [
    "# 7.Example\n",
    "a=50\n",
    "b=50\n",
    "if a == b:\n",
    "    print(\"a and b are equal\")"
   ]
  },
  {
   "cell_type": "code",
   "execution_count": 13,
   "id": "7d809494-05aa-407d-9042-7eaebd8a70d1",
   "metadata": {},
   "outputs": [
    {
     "name": "stdout",
     "output_type": "stream",
     "text": [
      "False\n"
     ]
    }
   ],
   "source": [
    "# 8.Example\n",
    "a = 60\n",
    "if (a != 20):\n",
    "  print(\"False\")"
   ]
  },
  {
   "cell_type": "code",
   "execution_count": 14,
   "id": "913df758-380e-4f1d-b152-f6f22f9014c5",
   "metadata": {},
   "outputs": [
    {
     "name": "stdout",
     "output_type": "stream",
     "text": [
      "Passed with 1st class\n"
     ]
    }
   ],
   "source": [
    "#9.Example\n",
    "Marks=90\n",
    "if(Marks >= 80):\n",
    "    print(\"Passed with 1st class\")"
   ]
  },
  {
   "cell_type": "code",
   "execution_count": 16,
   "id": "d36b189a-ac62-4162-acb4-42b8044fc281",
   "metadata": {},
   "outputs": [
    {
     "name": "stdout",
     "output_type": "stream",
     "text": [
      "Fail\n"
     ]
    }
   ],
   "source": [
    "#10.Example\n",
    "Marks=30\n",
    "if(Marks <= 35):\n",
    "    print(\"Fail\")"
   ]
  },
  {
   "cell_type": "code",
   "execution_count": 2,
   "id": "44f5b0cc-21ba-45cc-8a29-348a45c112eb",
   "metadata": {},
   "outputs": [
    {
     "name": "stdin",
     "output_type": "stream",
     "text": [
      "Enter your marks: 93\n"
     ]
    },
    {
     "name": "stdout",
     "output_type": "stream",
     "text": [
      "pass with 1st class\n"
     ]
    }
   ],
   "source": [
    " marks=int(input(\"Enter your marks:\"))\n",
    " if(marks >= 80):\n",
    "      print(\"pass with 1st class\")"
   ]
  },
  {
   "cell_type": "code",
   "execution_count": null,
   "id": "d2346675-0df0-4a2c-a126-951e152d1f9a",
   "metadata": {},
   "outputs": [],
   "source": []
  }
 ],
 "metadata": {
  "kernelspec": {
   "display_name": "Python 3 (ipykernel)",
   "language": "python",
   "name": "python3"
  },
  "language_info": {
   "codemirror_mode": {
    "name": "ipython",
    "version": 3
   },
   "file_extension": ".py",
   "mimetype": "text/x-python",
   "name": "python",
   "nbconvert_exporter": "python",
   "pygments_lexer": "ipython3",
   "version": "3.11.7"
  }
 },
 "nbformat": 4,
 "nbformat_minor": 5
}
