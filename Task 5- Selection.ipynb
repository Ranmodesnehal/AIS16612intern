{
 "cells": [
  {
   "cell_type": "markdown",
   "id": "2011d2d2-1787-43c4-9441-a030fef808c3",
   "metadata": {},
   "source": [
    "# Selection"
   ]
  },
  {
   "cell_type": "code",
   "execution_count": null,
   "id": "d4f0933e-e3df-4d15-abf3-9813dcf7653b",
   "metadata": {},
   "outputs": [],
   "source": [
    "* selection of dataframe  \n",
    "In Pandas, you can select specific rows and columns from a dataframe using various methods. Here's a brief overview:\n",
    "Selecting Columns:\n",
    "Selecting Rows:"
   ]
  },
  {
   "cell_type": "markdown",
   "id": "ff7b7938-a35a-4f3a-bd79-baa6a5e757b0",
   "metadata": {},
   "source": [
    "* Coloumn selection"
   ]
  },
  {
   "cell_type": "code",
   "execution_count": 12,
   "id": "74520f5c-d535-4292-ad0d-26a9e648d4b3",
   "metadata": {},
   "outputs": [
    {
     "name": "stdout",
     "output_type": "stream",
     "text": [
      "   A  B   c\n",
      "0  1  5   9\n",
      "1  2  6  10\n",
      "2  3  7  11\n",
      "3  4  8  12\n"
     ]
    },
    {
     "data": {
      "text/html": [
       "<div>\n",
       "<style scoped>\n",
       "    .dataframe tbody tr th:only-of-type {\n",
       "        vertical-align: middle;\n",
       "    }\n",
       "\n",
       "    .dataframe tbody tr th {\n",
       "        vertical-align: top;\n",
       "    }\n",
       "\n",
       "    .dataframe thead th {\n",
       "        text-align: right;\n",
       "    }\n",
       "</style>\n",
       "<table border=\"1\" class=\"dataframe\">\n",
       "  <thead>\n",
       "    <tr style=\"text-align: right;\">\n",
       "      <th></th>\n",
       "      <th>A</th>\n",
       "      <th>B</th>\n",
       "    </tr>\n",
       "  </thead>\n",
       "  <tbody>\n",
       "    <tr>\n",
       "      <th>0</th>\n",
       "      <td>1</td>\n",
       "      <td>5</td>\n",
       "    </tr>\n",
       "    <tr>\n",
       "      <th>1</th>\n",
       "      <td>2</td>\n",
       "      <td>6</td>\n",
       "    </tr>\n",
       "    <tr>\n",
       "      <th>2</th>\n",
       "      <td>3</td>\n",
       "      <td>7</td>\n",
       "    </tr>\n",
       "    <tr>\n",
       "      <th>3</th>\n",
       "      <td>4</td>\n",
       "      <td>8</td>\n",
       "    </tr>\n",
       "  </tbody>\n",
       "</table>\n",
       "</div>"
      ],
      "text/plain": [
       "   A  B\n",
       "0  1  5\n",
       "1  2  6\n",
       "2  3  7\n",
       "3  4  8"
      ]
     },
     "execution_count": 12,
     "metadata": {},
     "output_type": "execute_result"
    }
   ],
   "source": [
    "#To select a single column, you can use either bracket notation or dot notation:\n",
    "import pandas as pd\n",
    "data={\n",
    "    'A':[1,2,3,4],\n",
    "    'B':[5,6,7,8],\n",
    "    'c':[9,10,11,12]\n",
    "}\n",
    "df=pd.DataFrame(data)\n",
    "print(df)\n",
    "df['A']\n",
    "#or\n",
    "df.A\n",
    "\n",
    "#To select multiple columns, pass a list of column names:\n",
    "df[['A', 'B']]\n"
   ]
  },
  {
   "cell_type": "markdown",
   "id": "57b35a97-c71c-43e0-97ef-e6b945d85839",
   "metadata": {},
   "source": [
    "* Selecting Rows:"
   ]
  },
  {
   "cell_type": "code",
   "execution_count": 21,
   "id": "0ae76b8a-6efb-4389-af29-8183074780c6",
   "metadata": {},
   "outputs": [
    {
     "name": "stdout",
     "output_type": "stream",
     "text": [
      "20\n",
      "20\n"
     ]
    }
   ],
   "source": [
    "import pandas as pd\n",
    "# Creating a sample Series\n",
    "series = pd.Series([10, 20, 30, 40], index=['A', 'B', 'C', 'D'])\n",
    "\n",
    "# Using loc\n",
    "print(series.loc['B'])\n",
    "\n",
    "# Using iloc\n",
    "print(series.iloc[1])"
   ]
  },
  {
   "cell_type": "markdown",
   "id": "f8b7a4a0-1102-4304-863e-214d727bc118",
   "metadata": {},
   "source": [
    "* Conditional Selection:"
   ]
  },
  {
   "cell_type": "code",
   "execution_count": 23,
   "id": "5b6346f7-2c53-4a4b-be46-19f715ed9973",
   "metadata": {},
   "outputs": [
    {
     "name": "stdout",
     "output_type": "stream",
     "text": [
      "C    30\n",
      "D    40\n",
      "dtype: int64\n"
     ]
    }
   ],
   "source": [
    "#You can use boolean conditions to filter elements in a series:\n",
    "# Conditional selection\n",
    "print(series[series > 20])"
   ]
  },
  {
   "cell_type": "markdown",
   "id": "1ec55048-945d-4861-bc30-5fe9407d9698",
   "metadata": {},
   "source": [
    "* Deletion:  \n",
    "To delete elements from a series, you can use the drop method:"
   ]
  },
  {
   "cell_type": "code",
   "execution_count": 31,
   "id": "537b1135-bc49-499e-b688-97c844d9fc88",
   "metadata": {},
   "outputs": [
    {
     "name": "stdout",
     "output_type": "stream",
     "text": [
      "C    50\n",
      "D    50\n",
      "Name: column_name, dtype: int64\n"
     ]
    }
   ],
   "source": [
    "# Deletion\n",
    "selected_series.drop('B', inplace=True)\n",
    "print(selected_series)"
   ]
  },
  {
   "cell_type": "markdown",
   "id": "182fafd5-fea8-4a38-a304-4131dd4c15c7",
   "metadata": {},
   "source": [
    "* Update:   \n",
    "To update values in a series based on certain conditions, you can use boolean indexing:"
   ]
  },
  {
   "cell_type": "code",
   "execution_count": 27,
   "id": "61738eb9-a71a-4706-bd4f-fecc98c0cf94",
   "metadata": {},
   "outputs": [
    {
     "name": "stdout",
     "output_type": "stream",
     "text": [
      "B    20\n",
      "C    50\n",
      "D    50\n",
      "Name: column_name, dtype: int64\n"
     ]
    }
   ],
   "source": [
    "# Update\n",
    "threshold = 20\n",
    "new_value = 50\n",
    "selected_series[selected_series > threshold] = new_value\n",
    "print(selected_series)"
   ]
  },
  {
   "cell_type": "code",
   "execution_count": 26,
   "id": "1b8e6ac8-a682-429a-98de-b34f862b66a8",
   "metadata": {},
   "outputs": [
    {
     "name": "stdout",
     "output_type": "stream",
     "text": [
      "Using loc:\n",
      "20\n",
      "\n",
      "Using iloc:\n",
      "20\n",
      "\n",
      "Conditional Selection:\n",
      "C    30\n",
      "D    40\n",
      "dtype: int64\n",
      "\n",
      "Column Selection:\n",
      "A    10\n",
      "B    20\n",
      "C    30\n",
      "D    40\n",
      "Name: column_name, dtype: int64\n",
      "\n",
      "After Deletion:\n",
      "B    20\n",
      "C    30\n",
      "D    40\n",
      "Name: column_name, dtype: int64\n",
      "\n",
      "After Update:\n",
      "B    20\n",
      "C    50\n",
      "D    50\n",
      "Name: column_name, dtype: int64\n"
     ]
    }
   ],
   "source": [
    "import pandas as pd\n",
    "# Creating a sample Series\n",
    "series = pd.Series([10, 20, 30, 40], index=['A', 'B', 'C', 'D'])\n",
    "\n",
    "# Indexing\n",
    "print(\"Using loc:\")\n",
    "print(series.loc['B'])  # Accessing element with label 'B'\n",
    "print(\"\\nUsing iloc:\")\n",
    "print(series.iloc[1])   # Accessing element at position 1\n",
    "\n",
    "# Conditional selection\n",
    "print(\"\\nConditional Selection:\")\n",
    "print(series[series > 20])  # Selecting elements greater than 20\n",
    "\n",
    "# Column selection\n",
    "print(\"\\nColumn Selection:\")\n",
    "df = pd.DataFrame({'column_name': series})\n",
    "selected_series = df['column_name']\n",
    "print(selected_series)\n",
    "\n",
    "# Deletion\n",
    "print(\"\\nAfter Deletion:\")\n",
    "selected_series.drop('A', inplace=True)\n",
    "print(selected_series)\n",
    "\n",
    "# Update\n",
    "print(\"\\nAfter Update:\")\n",
    "threshold = 20\n",
    "new_value = 50\n",
    "selected_series[selected_series > threshold] = new_value\n",
    "print(selected_series)"
   ]
  },
  {
   "cell_type": "markdown",
   "id": "4750a004-17a0-465d-a11c-6d83592d6458",
   "metadata": {},
   "source": [
    "* Index Setting:  \n",
    "You can set a custom index for a Series using the index parameter when creating the Series."
   ]
  },
  {
   "cell_type": "code",
   "execution_count": 32,
   "id": "6d804c69-7ede-4aad-9c92-0f846b8818fd",
   "metadata": {},
   "outputs": [
    {
     "name": "stdout",
     "output_type": "stream",
     "text": [
      "\n",
      "Series with custom index:\n",
      "X    10\n",
      "Y    20\n",
      "Z    30\n",
      "W    40\n",
      "dtype: int64\n"
     ]
    }
   ],
   "source": [
    "# Setting custom index\n",
    "custom_index = ['X', 'Y', 'Z', 'W']\n",
    "series_with_custom_index = pd.Series([10, 20, 30, 40], index=custom_index)\n",
    "print(\"\\nSeries with custom index:\")\n",
    "print(series_with_custom_index)"
   ]
  },
  {
   "cell_type": "markdown",
   "id": "c90d709a-2993-4fa7-8284-a86a6bfa242f",
   "metadata": {},
   "source": [
    "* Removing Index:  \n",
    "You can remove the index of a Series using the reset_index method."
   ]
  },
  {
   "cell_type": "code",
   "execution_count": 34,
   "id": "265ca390-e965-4cb5-9057-031ed6d82110",
   "metadata": {},
   "outputs": [
    {
     "name": "stdout",
     "output_type": "stream",
     "text": [
      "\n",
      "Series with reset index:\n",
      "0    10\n",
      "1    20\n",
      "2    30\n",
      "3    40\n",
      "dtype: int64\n"
     ]
    }
   ],
   "source": [
    "# Removing index\n",
    "series_reset_index = series.reset_index(drop=True)\n",
    "print(\"\\nSeries with reset index:\")\n",
    "print(series_reset_index)"
   ]
  },
  {
   "cell_type": "markdown",
   "id": "7d6e920a-4ee1-4a85-a473-a530001bef8d",
   "metadata": {},
   "source": [
    "# Operation:"
   ]
  },
  {
   "cell_type": "markdown",
   "id": "86578516-28cb-4889-831c-0a866c850d2b",
   "metadata": {},
   "source": [
    "* Addition (+):  "
   ]
  },
  {
   "cell_type": "code",
   "execution_count": 37,
   "id": "141f94cd-84a7-458a-be74-c513a60cdc2d",
   "metadata": {},
   "outputs": [
    {
     "name": "stdout",
     "output_type": "stream",
     "text": [
      "Addition:\n",
      "0     6\n",
      "1     8\n",
      "2    10\n",
      "3    12\n",
      "dtype: int64\n"
     ]
    }
   ],
   "source": [
    "import pandas as pd\n",
    "\n",
    "# Creating a sample DataFrame\n",
    "data = {'A': [1, 2, 3, 4], 'B': [5, 6, 7, 8]}\n",
    "df = pd.DataFrame(data)\n",
    "# Addition\n",
    "result_addition = df['A'] + df['B']\n",
    "print(\"Addition:\")\n",
    "print(result_addition)"
   ]
  },
  {
   "cell_type": "markdown",
   "id": "65114a2a-c4c2-488a-a70b-5be4c0cf4620",
   "metadata": {},
   "source": [
    "* Subtraction (-):  "
   ]
  },
  {
   "cell_type": "code",
   "execution_count": 38,
   "id": "f01e5219-7bf0-49c2-8b4d-71ef87adaa39",
   "metadata": {},
   "outputs": [
    {
     "name": "stdout",
     "output_type": "stream",
     "text": [
      "\n",
      "Subtraction:\n",
      "0   -4\n",
      "1   -4\n",
      "2   -4\n",
      "3   -4\n",
      "dtype: int64\n"
     ]
    }
   ],
   "source": [
    "# Subtraction\n",
    "result_subtraction = df['A'] - df['B']\n",
    "print(\"\\nSubtraction:\")\n",
    "print(result_subtraction)"
   ]
  },
  {
   "cell_type": "markdown",
   "id": "cbc44b98-3154-42a1-8245-9389d54b2806",
   "metadata": {},
   "source": [
    "* Multiplication (*):  "
   ]
  },
  {
   "cell_type": "code",
   "execution_count": 39,
   "id": "a7a2b793-107e-4617-afb6-c817aa6007a0",
   "metadata": {},
   "outputs": [
    {
     "name": "stdout",
     "output_type": "stream",
     "text": [
      "\n",
      "Multiplication:\n",
      "0     5\n",
      "1    12\n",
      "2    21\n",
      "3    32\n",
      "dtype: int64\n"
     ]
    }
   ],
   "source": [
    "# Multiplication\n",
    "result_multiplication = df['A'] * df['B']\n",
    "print(\"\\nMultiplication:\")\n",
    "print(result_multiplication)"
   ]
  },
  {
   "cell_type": "markdown",
   "id": "a053205e-6461-4a16-b8da-c5b0b6f3be18",
   "metadata": {},
   "source": [
    "* Logical OR (|):  "
   ]
  },
  {
   "cell_type": "code",
   "execution_count": 40,
   "id": "b07a31ba-1c6f-4187-bacf-4e6c4198edbd",
   "metadata": {},
   "outputs": [
    {
     "name": "stdout",
     "output_type": "stream",
     "text": [
      "\n",
      "Logical OR:\n",
      "0    True\n",
      "1    True\n",
      "2    True\n",
      "3    True\n",
      "dtype: bool\n"
     ]
    }
   ],
   "source": [
    "# Logical OR\n",
    "bool_series1 = pd.Series([True, False, True, False])\n",
    "bool_series2 = pd.Series([False, True, False, True])\n",
    "\n",
    "result_logical_or = bool_series1 | bool_series2\n",
    "print(\"\\nLogical OR:\")\n",
    "print(result_logical_or)"
   ]
  },
  {
   "cell_type": "code",
   "execution_count": 41,
   "id": "84372e63-f281-4e07-81b3-9282a4d254d3",
   "metadata": {},
   "outputs": [
    {
     "name": "stdout",
     "output_type": "stream",
     "text": [
      "Addition:\n",
      "0    17\n",
      "1    18\n",
      "2     7\n",
      "3    12\n",
      "dtype: int64\n",
      "\n",
      "Subtraction:\n",
      "0     7\n",
      "1   -14\n",
      "2    -1\n",
      "3    -4\n",
      "dtype: int64\n",
      "\n",
      "Multiplication:\n",
      "0    60\n",
      "1    32\n",
      "2    12\n",
      "3    32\n",
      "dtype: int64\n",
      "\n",
      "Logical OR:\n",
      "0    True\n",
      "1    True\n",
      "2    True\n",
      "3    True\n",
      "dtype: bool\n"
     ]
    }
   ],
   "source": [
    "import pandas as pd\n",
    "\n",
    "# Creating a sample DataFrame\n",
    "data = {'A': [12, 2, 3, 4], 'B': [5, 16, 4, 8]}\n",
    "df = pd.DataFrame(data)\n",
    "\n",
    "# Addition\n",
    "result_addition = df['A'] + df['B']\n",
    "print(\"Addition:\")\n",
    "print(result_addition)\n",
    "\n",
    "# Subtraction\n",
    "result_subtraction = df['A'] - df['B']\n",
    "print(\"\\nSubtraction:\")\n",
    "print(result_subtraction)\n",
    "\n",
    "# Multiplication\n",
    "result_multiplication = df['A'] * df['B']\n",
    "print(\"\\nMultiplication:\")\n",
    "print(result_multiplication)\n",
    "\n",
    "# Logical OR\n",
    "bool_series1 = pd.Series([True, False, True, False])\n",
    "bool_series2 = pd.Series([False, True, False, True])\n",
    "\n",
    "result_logical_or = bool_series1 | bool_series2\n",
    "print(\"\\nLogical OR:\")\n",
    "print(result_logical_or)"
   ]
  },
  {
   "cell_type": "code",
   "execution_count": null,
   "id": "a9cfb311-c670-48df-93a1-6225ea4fcdab",
   "metadata": {},
   "outputs": [],
   "source": []
  }
 ],
 "metadata": {
  "kernelspec": {
   "display_name": "Python 3 (ipykernel)",
   "language": "python",
   "name": "python3"
  },
  "language_info": {
   "codemirror_mode": {
    "name": "ipython",
    "version": 3
   },
   "file_extension": ".py",
   "mimetype": "text/x-python",
   "name": "python",
   "nbconvert_exporter": "python",
   "pygments_lexer": "ipython3",
   "version": "3.11.7"
  }
 },
 "nbformat": 4,
 "nbformat_minor": 5
}
