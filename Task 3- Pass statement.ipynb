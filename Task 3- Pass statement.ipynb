{
 "cells": [
  {
   "cell_type": "markdown",
   "id": "83decaf5-8acd-4961-b8f8-94432b06f059",
   "metadata": {},
   "source": [
    "# Pass Statement"
   ]
  },
  {
   "cell_type": "markdown",
   "id": "8f3b1e8a-4925-4487-9902-86e3395b0833",
   "metadata": {},
   "source": [
    "* The pass statement is used as a placeholder for future code.\n",
    "* When the pass statement is executed, nothing happens, but you avoid getting an error when empty code is not allowed.\n",
    "* Empty code is not allowed in loops, function definitions, class definitions, or in if statements."
   ]
  },
  {
   "cell_type": "markdown",
   "id": "96bcc71e-8dde-4d7b-8ac3-772ac9655859",
   "metadata": {},
   "source": [
    "The Python pass statement is a null statement. But the difference between pass and comment is that comment is ignored by the interpreter whereas pass is not ignored.\n",
    "* Syntex   \n",
    " pass   \n",
    " When the user does not know what code to write, So user simply places a pass at that line. Sometimes, the pass is used when the user doesn’t want any code to execute. So users can simply place a pass where empty code is not allowed, like in loops, function definitions, class definitions, or in if statements. So using a pass statement user avoids this error."
   ]
  },
  {
   "cell_type": "code",
   "execution_count": 11,
   "id": "7e8dae5d-38e9-48f8-8c14-1be9ef5b701c",
   "metadata": {},
   "outputs": [],
   "source": [
    "# Using the pass keyword in an if statement:\n",
    "M=[60,50,30,20]\n",
    "for i in M\n",
    "if i < 35:\n",
    "    print(\n"
   ]
  },
  {
   "cell_type": "code",
   "execution_count": 23,
   "id": "1fa7d328-d247-477e-ad8b-a19ab6291f09",
   "metadata": {
    "scrolled": true
   },
   "outputs": [
    {
     "name": "stdout",
     "output_type": "stream",
     "text": [
      "Greater\n",
      "b is less than a\n"
     ]
    }
   ],
   "source": [
    "a = 10\n",
    "b = 20\n",
    "if(a<b):\n",
    "    print(\"Greater\")\n",
    "    pass\n",
    "print(\"b is less than a\")"
   ]
  },
  {
   "cell_type": "code",
   "execution_count": 13,
   "id": "f5484351-1a70-4c0d-9b0b-5b4250112315",
   "metadata": {},
   "outputs": [
    {
     "name": "stdout",
     "output_type": "stream",
     "text": [
      "a for apple\n",
      "a\n",
      "b\n",
      "c\n",
      "d\n"
     ]
    }
   ],
   "source": [
    "l1 =['a', 'b', 'c', 'd']\n",
    "for i in l1:\n",
    "    if(i =='a'):\n",
    "        pass\n",
    "        print(\"a for apple\")\n",
    "    print(i)"
   ]
  },
  {
   "cell_type": "code",
   "execution_count": null,
   "id": "90ec7a2e-3343-4dd2-82dd-aeb17bbaee74",
   "metadata": {},
   "outputs": [],
   "source": []
  }
 ],
 "metadata": {
  "kernelspec": {
   "display_name": "Python 3 (ipykernel)",
   "language": "python",
   "name": "python3"
  },
  "language_info": {
   "codemirror_mode": {
    "name": "ipython",
    "version": 3
   },
   "file_extension": ".py",
   "mimetype": "text/x-python",
   "name": "python",
   "nbconvert_exporter": "python",
   "pygments_lexer": "ipython3",
   "version": "3.11.7"
  }
 },
 "nbformat": 4,
 "nbformat_minor": 5
}
