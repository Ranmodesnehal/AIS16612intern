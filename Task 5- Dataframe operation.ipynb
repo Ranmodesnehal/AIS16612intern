{
 "cells": [
  {
   "cell_type": "markdown",
   "id": "f9174a06-6d30-4706-a0a0-c561dac2c387",
   "metadata": {},
   "source": [
    "# Dataframe operation"
   ]
  },
  {
   "cell_type": "code",
   "execution_count": 3,
   "id": "e483a0d3-1539-4a46-946f-de616cea2f7f",
   "metadata": {},
   "outputs": [
    {
     "name": "stdout",
     "output_type": "stream",
     "text": [
      "[[1 4]\n",
      " [2 5]\n",
      " [3 6]]\n"
     ]
    }
   ],
   "source": [
    "#1.Values:\n",
    "import pandas as pd\n",
    "# Create a DataFrame\n",
    "df = pd.DataFrame({'A': [1, 2, 3], 'B': [4, 5, 6]})\n",
    "print(df.values)"
   ]
  },
  {
   "cell_type": "code",
   "execution_count": 4,
   "id": "fc649005-f4db-41fc-a2a6-0aa7d2766889",
   "metadata": {},
   "outputs": [
    {
     "name": "stdout",
     "output_type": "stream",
     "text": [
      "A    3\n",
      "B    3\n",
      "dtype: int64\n",
      "0    2\n",
      "1    2\n",
      "2    2\n",
      "dtype: int64\n"
     ]
    }
   ],
   "source": [
    "# 2.Counts:\n",
    "#Count non-null values for each column or row.\n",
    "# Count non-null values for each column\n",
    "print(df.count())\n",
    "# Count non-null values for each row\n",
    "print(df.count(axis=1))"
   ]
  },
  {
   "cell_type": "code",
   "execution_count": 5,
   "id": "4f582686-036c-43c8-821d-0925f3c04da6",
   "metadata": {},
   "outputs": [
    {
     "name": "stdout",
     "output_type": "stream",
     "text": [
      "A    2.0\n",
      "B    5.0\n",
      "dtype: float64\n",
      "0    4\n",
      "1    5\n",
      "2    6\n",
      "dtype: int64\n"
     ]
    }
   ],
   "source": [
    "# 3.Apply:\n",
    "import numpy as np\n",
    "# Apply a function to each column\n",
    "print(df.apply(np.mean))\n",
    "# Apply a function to each row\n",
    "print(df.apply(np.max, axis=1))\n"
   ]
  },
  {
   "cell_type": "code",
   "execution_count": 6,
   "id": "7ea75078-dc4a-45eb-a1d0-4b06f284be15",
   "metadata": {},
   "outputs": [
    {
     "name": "stdout",
     "output_type": "stream",
     "text": [
      "[1 2 3]\n",
      "3\n"
     ]
    }
   ],
   "source": [
    "# 4.Unique and Nunique:\n",
    "# Get unique values in a column\n",
    "print(df['A'].unique())\n",
    "# Get the number of unique values in a column\n",
    "print(df['A'].nunique())"
   ]
  },
  {
   "cell_type": "code",
   "execution_count": 7,
   "id": "b80c832a-899a-4a1c-8ac8-193a7946f8cc",
   "metadata": {},
   "outputs": [
    {
     "name": "stdout",
     "output_type": "stream",
     "text": [
      "         A    B\n",
      "count  3.0  3.0\n",
      "mean   2.0  5.0\n",
      "std    1.0  1.0\n",
      "min    1.0  4.0\n",
      "25%    1.5  4.5\n",
      "50%    2.0  5.0\n",
      "75%    2.5  5.5\n",
      "max    3.0  6.0\n"
     ]
    }
   ],
   "source": [
    "# 5.Describe:\n",
    "print(df.describe())"
   ]
  },
  {
   "cell_type": "code",
   "execution_count": 8,
   "id": "db80a91f-359e-4641-a390-cce0aa262cde",
   "metadata": {},
   "outputs": [
    {
     "name": "stdout",
     "output_type": "stream",
     "text": [
      "A\n",
      "1    1\n",
      "2    1\n",
      "3    1\n",
      "Name: count, dtype: int64\n"
     ]
    }
   ],
   "source": [
    "# 6.Value Counts:\n",
    "print(df['A'].value_counts())"
   ]
  },
  {
   "cell_type": "code",
   "execution_count": 9,
   "id": "53a1da7f-b4ab-4826-838e-3dd4ccddc91c",
   "metadata": {},
   "outputs": [
    {
     "name": "stdout",
     "output_type": "stream",
     "text": [
      "   A  B\n",
      "0  1  4\n",
      "1  2  5\n",
      "2  3  6\n",
      "   A  B\n",
      "0  1  4\n",
      "1  2  5\n",
      "2  3  6\n"
     ]
    }
   ],
   "source": [
    "# 7.Sorting:\n",
    "# Sort DataFrame by index\n",
    "print(df.sort_index())\n",
    "# Sort DataFrame by values of a column\n",
    "print(df.sort_values(by='A'))"
   ]
  },
  {
   "cell_type": "code",
   "execution_count": 10,
   "id": "118abbf6-6142-400d-a9d5-d23710c98b94",
   "metadata": {},
   "outputs": [
    {
     "name": "stdout",
     "output_type": "stream",
     "text": [
      "0      One\n",
      "1      Two\n",
      "2    Three\n",
      "Name: A, dtype: object\n"
     ]
    }
   ],
   "source": [
    "# 8.Mapping:\n",
    "mapping_dict = {1: 'One', 2: 'Two', 3: 'Three'}\n",
    "print(df['A'].map(mapping_dict))"
   ]
  }
 ],
 "metadata": {
  "kernelspec": {
   "display_name": "Python 3 (ipykernel)",
   "language": "python",
   "name": "python3"
  },
  "language_info": {
   "codemirror_mode": {
    "name": "ipython",
    "version": 3
   },
   "file_extension": ".py",
   "mimetype": "text/x-python",
   "name": "python",
   "nbconvert_exporter": "python",
   "pygments_lexer": "ipython3",
   "version": "3.11.7"
  }
 },
 "nbformat": 4,
 "nbformat_minor": 5
}
