{
 "cells": [
  {
   "cell_type": "markdown",
   "id": "ac85ffa8-465f-4921-9009-a5365fc41f44",
   "metadata": {},
   "source": [
    "# List\n",
    "* Lists are used to store multiple items in a single variable.\n",
    "* Mutable can change or update.\n",
    "* Ordered collection indexes starting from 0\n",
    "* Lists are created using square brackets.\n",
    "* each element seperated using comma i.e ,\n",
    "* List within list is possible combination.\n",
    "* List items are ordered, changeable, and allow duplicate values.\n",
    "\n"
   ]
  },
  {
   "cell_type": "code",
   "execution_count": 1,
   "id": "103e2892-e41b-4f00-8183-49349e36226b",
   "metadata": {},
   "outputs": [
    {
     "name": "stdout",
     "output_type": "stream",
     "text": [
      "['apple', 22, 'banana', 100, 'cherry', 'banana']\n"
     ]
    }
   ],
   "source": [
    "# list creation []  or  Mixed data type\n",
    "l1=[\"apple\",22,\"banana\",100,\"cherry\",\"banana\"]\n",
    "print(l1)"
   ]
  },
  {
   "cell_type": "code",
   "execution_count": 2,
   "id": "3e5a1e70-4781-4d5c-97f1-a300722191e4",
   "metadata": {},
   "outputs": [
    {
     "data": {
      "text/plain": [
       "list"
      ]
     },
     "execution_count": 2,
     "metadata": {},
     "output_type": "execute_result"
    }
   ],
   "source": [
    "type(l1)"
   ]
  },
  {
   "cell_type": "code",
   "execution_count": 2,
   "id": "7d7dba61-60a4-46a0-b196-03997c383bc4",
   "metadata": {},
   "outputs": [],
   "source": [
    "# empty list\n",
    "my_list=[]"
   ]
  },
  {
   "cell_type": "code",
   "execution_count": 7,
   "id": "c7e3b9cd-51a8-41dd-b88d-4e33e7e736f5",
   "metadata": {},
   "outputs": [
    {
     "name": "stdout",
     "output_type": "stream",
     "text": [
      "[2, 100, 5, 45]\n"
     ]
    }
   ],
   "source": [
    "# list of integer\n",
    "L1=[2,100,5,45]\n",
    "print(L1)"
   ]
  },
  {
   "cell_type": "code",
   "execution_count": 8,
   "id": "4860a523-2402-40ad-86e0-e888c5d8838d",
   "metadata": {},
   "outputs": [
    {
     "name": "stdout",
     "output_type": "stream",
     "text": [
      "4\n"
     ]
    }
   ],
   "source": [
    "#To determine how many items a list has, use the len() function\n",
    "print(len(L1))"
   ]
  },
  {
   "cell_type": "markdown",
   "id": "9a9c0570-36f1-44d4-831f-773195de8acc",
   "metadata": {},
   "source": [
    "* List items - Data type\n",
    "1. String\n",
    "2. int \n",
    "3. boolean "
   ]
  },
  {
   "cell_type": "code",
   "execution_count": 5,
   "id": "bd565f72-4b4d-4c74-b210-d367b0b9aac0",
   "metadata": {},
   "outputs": [
    {
     "name": "stdout",
     "output_type": "stream",
     "text": [
      "<class 'list'>\n",
      "<class 'list'>\n",
      "<class 'list'>\n"
     ]
    },
    {
     "data": {
      "text/plain": [
       "['apple', 'banana', 'cherry']"
      ]
     },
     "execution_count": 5,
     "metadata": {},
     "output_type": "execute_result"
    }
   ],
   "source": [
    "list1 = [\"apple\", \"banana\", \"cherry\"]\n",
    "list2 = [1, 5, 7, 9, 3]\n",
    "list3 = [True, False, False]\n",
    "print(type(list1))\n",
    "print(type(list2))\n",
    "print(type(list3))\n",
    "list1"
   ]
  },
  {
   "cell_type": "code",
   "execution_count": 5,
   "id": "8df42017-c504-41bf-85cc-bf5afc13044f",
   "metadata": {},
   "outputs": [
    {
     "name": "stdout",
     "output_type": "stream",
     "text": [
      "['apple', 'banana', 'cherry']\n"
     ]
    }
   ],
   "source": [
    "# The list() Constructor\n",
    "thislist = list((\"apple\", \"banana\", \"cherry\")) # note the double round-brackets\n",
    "print(thislist)"
   ]
  },
  {
   "cell_type": "code",
   "execution_count": 7,
   "id": "48e7dbed-5bc2-4f80-8e18-a425b773d42d",
   "metadata": {},
   "outputs": [
    {
     "data": {
      "text/plain": [
       "['p', 'r', 'o', 'b', 'e']"
      ]
     },
     "execution_count": 7,
     "metadata": {},
     "output_type": "execute_result"
    }
   ],
   "source": [
    "list=['p','r','o','b','e']\n",
    "list"
   ]
  },
  {
   "cell_type": "code",
   "execution_count": 8,
   "id": "95fefc5e-ec92-4e88-92a9-15856d5f4cb9",
   "metadata": {},
   "outputs": [
    {
     "data": {
      "text/plain": [
       "'b'"
      ]
     },
     "execution_count": 8,
     "metadata": {},
     "output_type": "execute_result"
    }
   ],
   "source": [
    "# +ve indexing starting from zero\n",
    "# -ve indexing string from -1\n",
    "list[-2]"
   ]
  },
  {
   "cell_type": "code",
   "execution_count": 9,
   "id": "dfaea5db-fef0-4fe7-ac06-b8272ea23254",
   "metadata": {},
   "outputs": [
    {
     "data": {
      "text/plain": [
       "'o'"
      ]
     },
     "execution_count": 9,
     "metadata": {},
     "output_type": "execute_result"
    }
   ],
   "source": [
    "#start:include and end:exclude\n",
    "list[2]"
   ]
  },
  {
   "cell_type": "code",
   "execution_count": 2,
   "id": "831ab0ce-f87b-4da1-90f5-c4dfe7540115",
   "metadata": {},
   "outputs": [
    {
     "data": {
      "text/plain": [
       "[['mouse', 8, 4], 6, ['a']]"
      ]
     },
     "execution_count": 2,
     "metadata": {},
     "output_type": "execute_result"
    }
   ],
   "source": [
    "# nested list\n",
    "my_list=[[\"mouse\",8,4],6,[\"a\"]]\n",
    "my_list"
   ]
  },
  {
   "cell_type": "code",
   "execution_count": 6,
   "id": "335c8f6f-f045-49ad-8e7a-bdc24b3df176",
   "metadata": {},
   "outputs": [
    {
     "data": {
      "text/plain": [
       "'apple'"
      ]
     },
     "execution_count": 6,
     "metadata": {},
     "output_type": "execute_result"
    }
   ],
   "source": [
    "#assending items\n",
    "list1[0]"
   ]
  },
  {
   "cell_type": "markdown",
   "id": "e3158d4e-1cee-4a88-9d34-ac8097388b08",
   "metadata": {},
   "source": [
    "* List Methods  \n",
    "Python has a set of built-in methods that you can use on lists."
   ]
  },
  {
   "cell_type": "code",
   "execution_count": null,
   "id": "4350abb0-d940-4e75-9d82-bd83d8a66c21",
   "metadata": {},
   "outputs": [],
   "source": [
    "Method\t                      Description\n",
    "append()\t           Adds an element at the end of the list\n",
    "clear()\t               Removes all the elements from the list\n",
    "copy()\t               Returns a copy of the list\n",
    "count()\t               Returns the number of elements with the specified value\n",
    "extend()\t           Add the elements of a list (or any iterable), to the end of the current list\n",
    "index()\t               Returns the index of the first element with the specified value\n",
    "insert()\t           Adds an element at the specified position\n",
    "pop()\t               Removes the element at the specified position\n",
    "remove()\t           Removes the item with the specified value\n",
    "reverse()\t           Reverses the order of the list\n",
    "sort()              Sorts the list"
   ]
  },
  {
   "cell_type": "code",
   "execution_count": 6,
   "id": "93e198ee-191c-43f8-b6b6-1cb67415ecbb",
   "metadata": {},
   "outputs": [
    {
     "name": "stdout",
     "output_type": "stream",
     "text": [
      "['apple', 'banana', 'cherry', 'orange']\n"
     ]
    }
   ],
   "source": [
    "#Add an element to the fruits list:\n",
    "fruits = ['apple', 'banana', 'cherry']\n",
    "fruits.append(\"orange\")\n",
    "print(fruits)"
   ]
  },
  {
   "cell_type": "code",
   "execution_count": 3,
   "id": "c492729d-36c5-4bd6-9380-817808482faf",
   "metadata": {},
   "outputs": [
    {
     "name": "stdout",
     "output_type": "stream",
     "text": [
      "[]\n"
     ]
    }
   ],
   "source": [
    "#Remove all elements from the fruits list:\n",
    "fruits = ['apple', 'banana', 'cherry', 'orange']\n",
    "fruits.clear()\n",
    "print(fruits)"
   ]
  },
  {
   "cell_type": "code",
   "execution_count": 8,
   "id": "e6818cf0-00ef-4825-9f5d-4ea3b5720784",
   "metadata": {},
   "outputs": [
    {
     "name": "stdout",
     "output_type": "stream",
     "text": [
      "['apple', 'banana', 'cherry', 'orange']\n"
     ]
    }
   ],
   "source": [
    "#Copy the fruits list:\n",
    "fruits = ['apple', 'banana', 'cherry', 'orange']\n",
    "x = fruits.copy()\n",
    "print(x)"
   ]
  },
  {
   "cell_type": "code",
   "execution_count": 9,
   "id": "843f2714-e39a-4c16-8c01-39214c734d32",
   "metadata": {},
   "outputs": [
    {
     "name": "stdout",
     "output_type": "stream",
     "text": [
      "1\n"
     ]
    }
   ],
   "source": [
    "#Return the number of times the value \"cherry\" appears in the fruits list:\n",
    "fruits = ['apple', 'banana', 'cherry']\n",
    "x = fruits.count(\"cherry\")\n",
    "print(x)"
   ]
  },
  {
   "cell_type": "code",
   "execution_count": 18,
   "id": "d5fa7f88-7c16-4d55-acb1-4f4be9e95303",
   "metadata": {},
   "outputs": [
    {
     "name": "stdout",
     "output_type": "stream",
     "text": [
      "3\n"
     ]
    }
   ],
   "source": [
    "# count the number without count \n",
    "num=0\n",
    "M=\"statistics\"\n",
    "for n in M:\n",
    "   if n=='s':\n",
    "     num=num+1\n",
    "print(num)"
   ]
  },
  {
   "cell_type": "code",
   "execution_count": 10,
   "id": "7b6196a9-25c1-432a-bf0d-47d97f9bbab7",
   "metadata": {},
   "outputs": [
    {
     "name": "stdout",
     "output_type": "stream",
     "text": [
      "['apple', 'banana', 'cherry', 'Ford', 'BMW', 'Volvo']\n"
     ]
    }
   ],
   "source": [
    "#Add the elements of cars to the fruits list:\n",
    "fruits = ['apple', 'banana', 'cherry']\n",
    "cars = ['Ford', 'BMW', 'Volvo']\n",
    "fruits.extend(cars)\n",
    "print(fruits)"
   ]
  },
  {
   "cell_type": "code",
   "execution_count": 11,
   "id": "dd4dc866-5399-4c4b-a002-6b9499a896ea",
   "metadata": {},
   "outputs": [
    {
     "name": "stdout",
     "output_type": "stream",
     "text": [
      "2\n"
     ]
    }
   ],
   "source": [
    "#What is the position of the value \"cherry\":\n",
    "fruits = ['apple', 'banana', 'cherry']\n",
    "x = fruits.index(\"cherry\")\n",
    "print(x)"
   ]
  },
  {
   "cell_type": "code",
   "execution_count": 21,
   "id": "91351655-d2b9-447d-bc9d-f553e69dcff6",
   "metadata": {},
   "outputs": [
    {
     "name": "stdout",
     "output_type": "stream",
     "text": [
      "['apple', 'orange', 'fig', 'banana', 'cherry']\n"
     ]
    }
   ],
   "source": [
    "#Insert the value \"orange\" as the second element of the fruit list:\n",
    "fruits = ['apple', 'banana', 'cherry']\n",
    "fruits.insert(1, \"orange\")\n",
    "fruits.insert(2,\"fig\")\n",
    "print(fruits)"
   ]
  },
  {
   "cell_type": "code",
   "execution_count": 13,
   "id": "aaa2ef23-dac5-4437-ab07-20ac7ba1071f",
   "metadata": {},
   "outputs": [
    {
     "name": "stdout",
     "output_type": "stream",
     "text": [
      "['apple', 'cherry']\n"
     ]
    }
   ],
   "source": [
    "#Remove the second element of the fruit list:\n",
    "fruits = ['apple', 'banana', 'cherry']\n",
    "fruits.pop(1)\n",
    "print(fruits)"
   ]
  },
  {
   "cell_type": "code",
   "execution_count": 14,
   "id": "5f0a3d5f-a5ab-46df-aef4-ffb6edd0d4e6",
   "metadata": {},
   "outputs": [
    {
     "name": "stdout",
     "output_type": "stream",
     "text": [
      "['apple', 'cherry']\n"
     ]
    }
   ],
   "source": [
    "#Remove the \"banana\" element of the fruit list:\n",
    "fruits = ['apple', 'banana', 'cherry']\n",
    "fruits.remove(\"banana\")\n",
    "print(fruits)"
   ]
  },
  {
   "cell_type": "code",
   "execution_count": 15,
   "id": "b2b7b9cb-3125-4521-8a16-6a307a21e17d",
   "metadata": {},
   "outputs": [
    {
     "name": "stdout",
     "output_type": "stream",
     "text": [
      "['cherry', 'banana', 'apple']\n"
     ]
    }
   ],
   "source": [
    "#Reverse the order of the fruit list:\n",
    "fruits = ['apple', 'banana', 'cherry']\n",
    "fruits.reverse()\n",
    "print(fruits)"
   ]
  },
  {
   "cell_type": "code",
   "execution_count": 16,
   "id": "03e7efcb-8e1e-458a-9b3f-280772341003",
   "metadata": {},
   "outputs": [
    {
     "name": "stdout",
     "output_type": "stream",
     "text": [
      "['BMW', 'Ford', 'Volvo']\n"
     ]
    }
   ],
   "source": [
    "#Sort the list alphabetically:\n",
    "cars = ['Ford', 'BMW', 'Volvo']\n",
    "cars.sort()\n",
    "print(cars)"
   ]
  },
  {
   "cell_type": "code",
   "execution_count": null,
   "id": "64d47a28-7e3d-4a1d-91e8-2c82a3a48404",
   "metadata": {},
   "outputs": [],
   "source": []
  }
 ],
 "metadata": {
  "kernelspec": {
   "display_name": "Python 3 (ipykernel)",
   "language": "python",
   "name": "python3"
  },
  "language_info": {
   "codemirror_mode": {
    "name": "ipython",
    "version": 3
   },
   "file_extension": ".py",
   "mimetype": "text/x-python",
   "name": "python",
   "nbconvert_exporter": "python",
   "pygments_lexer": "ipython3",
   "version": "3.11.7"
  }
 },
 "nbformat": 4,
 "nbformat_minor": 5
}
