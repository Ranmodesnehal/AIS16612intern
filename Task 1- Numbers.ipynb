{
 "cells": [
  {
   "cell_type": "markdown",
   "id": "aa988891-08a8-49d6-8b62-838df49d832a",
   "metadata": {},
   "source": [
    "# Number Data Type"
   ]
  },
  {
   "cell_type": "markdown",
   "id": "2b006f39-6eb3-4dbd-843e-42736156c6d1",
   "metadata": {},
   "source": [
    "There are three numeric types in Python:    \n",
    "  1.int  \n",
    "  2.float  \n",
    "  3.complex       \n",
    " Variables of numeric types are created when you assign a value to them:"
   ]
  },
  {
   "cell_type": "code",
   "execution_count": null,
   "id": "6921690b-3fd2-4ae1-8f7f-0f798c92d192",
   "metadata": {},
   "outputs": [],
   "source": [
    "#Ex\n",
    "x = 4    # int\n",
    "y = 3.8  # float\n",
    "z = 2j   # complex\n",
    "print(type(x))\n",
    "print(type(y))\n",
    "print(type(z))"
   ]
  },
  {
   "cell_type": "code",
   "execution_count": 1,
   "id": "140d7732-8555-445f-a0a1-a8f925f47ba9",
   "metadata": {},
   "outputs": [
    {
     "name": "stdout",
     "output_type": "stream",
     "text": [
      "15\n"
     ]
    }
   ],
   "source": [
    "#Ex\n",
    "numbers = [1, 2, 3, 4, 5]\n",
    "sum_numbers = sum(numbers)\n",
    "print(sum_numbers)"
   ]
  },
  {
   "cell_type": "markdown",
   "id": "7a7104ff-ab37-4aba-8f3c-5fdbbe856606",
   "metadata": {},
   "source": [
    "# 1. Integer"
   ]
  },
  {
   "cell_type": "code",
   "execution_count": 2,
   "id": "0337b05d-015c-48a1-b64a-37055c7c45ca",
   "metadata": {},
   "outputs": [
    {
     "name": "stdout",
     "output_type": "stream",
     "text": [
      "<class 'int'>\n",
      "<class 'int'>\n",
      "<class 'int'>\n"
     ]
    }
   ],
   "source": [
    "x = 1\n",
    "y = 35656222554887711\n",
    "z = -3255522\n",
    "print(type(x))\n",
    "print(type(y))\n",
    "print(type(z))"
   ]
  },
  {
   "cell_type": "markdown",
   "id": "14064236-3a5f-49b2-ae10-258e7019087f",
   "metadata": {},
   "source": [
    "# 2. Float"
   ]
  },
  {
   "cell_type": "code",
   "execution_count": 4,
   "id": "b342468c-e1e5-4603-9a9c-3c36508666df",
   "metadata": {},
   "outputs": [
    {
     "name": "stdout",
     "output_type": "stream",
     "text": [
      "<class 'float'>\n",
      "<class 'float'>\n",
      "<class 'float'>\n",
      "<class 'float'>\n"
     ]
    }
   ],
   "source": [
    "x = 1.10\n",
    "y = 12E4\n",
    "z = -87.7e100\n",
    "a = -35.59\n",
    "print(type(x))\n",
    "print(type(y))\n",
    "print(type(z))\n",
    "print(type(a))"
   ]
  },
  {
   "cell_type": "markdown",
   "id": "3b4fca35-ccf9-4d20-9902-fb586edb3a2b",
   "metadata": {},
   "source": [
    "# 3. Complex"
   ]
  },
  {
   "cell_type": "code",
   "execution_count": 5,
   "id": "3a664e8e-7a08-4b26-9bd1-ee66b5c0e76b",
   "metadata": {},
   "outputs": [
    {
     "name": "stdout",
     "output_type": "stream",
     "text": [
      "<class 'complex'>\n",
      "<class 'complex'>\n",
      "<class 'complex'>\n"
     ]
    }
   ],
   "source": [
    "x = 3+5j\n",
    "y = 5j\n",
    "z = -5j\n",
    "print(type(x))\n",
    "print(type(y))\n",
    "print(type(z))"
   ]
  },
  {
   "cell_type": "code",
   "execution_count": 6,
   "id": "e73f8ed3-1098-41c5-b04f-474c2d0d576f",
   "metadata": {},
   "outputs": [
    {
     "name": "stdout",
     "output_type": "stream",
     "text": [
      "1.0\n",
      "2\n",
      "(1+0j)\n",
      "<class 'float'>\n",
      "<class 'int'>\n",
      "<class 'complex'>\n"
     ]
    }
   ],
   "source": [
    "x = 1    # int\n",
    "y = 2.8  # float\n",
    "z = 1j   # complex\n",
    "#convert from int to float:\n",
    "a = float(x)\n",
    "#convert from float to int:\n",
    "b = int(y)\n",
    "#convert from int to complex:\n",
    "c = complex(x)\n",
    "print(a)\n",
    "print(b)\n",
    "print(c)\n",
    "print(type(a))\n",
    "print(type(b))\n",
    "print(type(c))\n"
   ]
  },
  {
   "cell_type": "code",
   "execution_count": null,
   "id": "2cfe503d-4171-4e89-93f5-7fe0ffb970ac",
   "metadata": {},
   "outputs": [],
   "source": []
  }
 ],
 "metadata": {
  "kernelspec": {
   "display_name": "Python 3 (ipykernel)",
   "language": "python",
   "name": "python3"
  },
  "language_info": {
   "codemirror_mode": {
    "name": "ipython",
    "version": 3
   },
   "file_extension": ".py",
   "mimetype": "text/x-python",
   "name": "python",
   "nbconvert_exporter": "python",
   "pygments_lexer": "ipython3",
   "version": "3.11.7"
  }
 },
 "nbformat": 4,
 "nbformat_minor": 5
}
