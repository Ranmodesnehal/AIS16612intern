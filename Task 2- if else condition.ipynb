{
 "cells": [
  {
   "cell_type": "markdown",
   "id": "b83ef3a5-722c-4c58-9833-06aae6d4867a",
   "metadata": {},
   "source": [
    "# if else condition"
   ]
  },
  {
   "cell_type": "markdown",
   "id": "bad4aaee-9f04-46e0-b9ef-81c58dc690f0",
   "metadata": {},
   "source": [
    "An if statement can have an optional else statement. The else statement executes if the condition in the if statement evaluates to False.    \n",
    "* Syntax  \n",
    "if condition:  \n",
    "     #body of if statement  \n",
    "else:  \n",
    "      #body of else statement  \n"
   ]
  },
  {
   "cell_type": "code",
   "execution_count": 1,
   "id": "a6d648c4-6370-4ab8-bff4-167058765bbd",
   "metadata": {},
   "outputs": [
    {
     "name": "stdout",
     "output_type": "stream",
     "text": [
      "a is greater than b\n"
     ]
    }
   ],
   "source": [
    "#1.Example\n",
    "a = 200\n",
    "b = 33\n",
    "if b > a:\n",
    "  print(\"b is greater than a\")\n",
    "else:\n",
    "  print(\"a is greater than b\")"
   ]
  },
  {
   "cell_type": "code",
   "execution_count": 3,
   "id": "5aa0463c-a2ab-434b-af6b-7791f892b91e",
   "metadata": {},
   "outputs": [
    {
     "name": "stdout",
     "output_type": "stream",
     "text": [
      "a and b are same\n"
     ]
    }
   ],
   "source": [
    "#2.Example\n",
    "a = 200\n",
    "b = 200\n",
    "if b == a:\n",
    "  print(\"a and b are same\")\n",
    "else:\n",
    "  print(\"a is not equal\")"
   ]
  },
  {
   "cell_type": "code",
   "execution_count": 4,
   "id": "37a9e50f-d403-4efd-a9a6-67af272b0a93",
   "metadata": {},
   "outputs": [
    {
     "name": "stdout",
     "output_type": "stream",
     "text": [
      "Positive number\n"
     ]
    }
   ],
   "source": [
    "#3.Example\n",
    "number = 10\n",
    "if number > 0:\n",
    "    print(\"Positive number\")\n",
    "else:\n",
    "    print(\"Negative number\")"
   ]
  },
  {
   "cell_type": "code",
   "execution_count": 30,
   "id": "0486b993-66cb-4125-bf33-4f14fe527d9d",
   "metadata": {},
   "outputs": [
    {
     "name": "stdout",
     "output_type": "stream",
     "text": [
      "even number\n"
     ]
    }
   ],
   "source": [
    "#4.Example\n",
    "number = 18\n",
    "if (number % 2 == 0) :\n",
    "    print('even number')\n",
    "else:\n",
    "    print('odd number')"
   ]
  },
  {
   "cell_type": "code",
   "execution_count": 25,
   "id": "7eecca7d-08c7-48ec-9f47-c00adcf9cc15",
   "metadata": {},
   "outputs": [
    {
     "name": "stdin",
     "output_type": "stream",
     "text": [
      "Enter your marks: 85\n"
     ]
    },
    {
     "name": "stdout",
     "output_type": "stream",
     "text": [
      "Student is passed\n"
     ]
    }
   ],
   "source": [
    "#5.\n",
    "Marks=int(input(\"Enter your marks:\"))\n",
    "if Marks >= 35:\n",
    "   print(\"Student is passed\")\n",
    "else:\n",
    "    print(\"Student fail\")"
   ]
  },
  {
   "cell_type": "code",
   "execution_count": 27,
   "id": "1c68937d-3c7e-484b-9f08-a375170c94fc",
   "metadata": {},
   "outputs": [
    {
     "name": "stdin",
     "output_type": "stream",
     "text": [
      "Enter any letter: a\n"
     ]
    },
    {
     "name": "stdout",
     "output_type": "stream",
     "text": [
      "Given letter is vowel\n"
     ]
    }
   ],
   "source": [
    "#6.\n",
    "x=(\"a\",\"e\",\"i\",\"o\",\"u\")\n",
    "letter=input(\"Enter any letter:\")\n",
    "if letter in x:\n",
    "    print(\"Given letter is vowel\")\n",
    "else:\n",
    "    print(\"Given letter is consenant\")"
   ]
  },
  {
   "cell_type": "code",
   "execution_count": 28,
   "id": "7d8b7202-429f-4314-acc0-d726b9410c29",
   "metadata": {},
   "outputs": [
    {
     "name": "stdin",
     "output_type": "stream",
     "text": [
      "Enter your no. of vactanition: 1\n"
     ]
    },
    {
     "name": "stdout",
     "output_type": "stream",
     "text": [
      "Complete your dose\n"
     ]
    }
   ],
   "source": [
    "#7.\n",
    "vac=int(input(\"Enter your no. of vactanition:\"))\n",
    "if vac >= 2:\n",
    "   print(\"Take a booster dose\")\n",
    "else:\n",
    "    print(\"Complete your dose\")"
   ]
  },
  {
   "cell_type": "code",
   "execution_count": 1,
   "id": "d2464597-c201-4b56-a3b6-d3b21ba88b64",
   "metadata": {},
   "outputs": [
    {
     "name": "stdout",
     "output_type": "stream",
     "text": [
      "price is less than 100\n"
     ]
    }
   ],
   "source": [
    "#8.\n",
    "price = 50\n",
    "if price > 100:\n",
    "    print(\"price is greater than 100\")\n",
    "else:\n",
    "    print(\"price is less than 100\")"
   ]
  },
  {
   "cell_type": "code",
   "execution_count": 2,
   "id": "97b83e75-db3a-41f1-9ce8-85b89d6200dc",
   "metadata": {},
   "outputs": [
    {
     "name": "stdout",
     "output_type": "stream",
     "text": [
      "List is empty\n"
     ]
    }
   ],
   "source": [
    "#9.\n",
    "my_list = []\n",
    "if my_list:\n",
    "    print(\"List is not empty\")\n",
    "else:\n",
    "    print(\"List is empty\")"
   ]
  },
  {
   "cell_type": "code",
   "execution_count": 3,
   "id": "0aac7597-e469-46c6-ad80-ff9b1ea8518b",
   "metadata": {},
   "outputs": [
    {
     "name": "stdout",
     "output_type": "stream",
     "text": [
      "Number is within the range\n"
     ]
    }
   ],
   "source": [
    "#10.\n",
    "num = 25\n",
    "if 10 <= num <= 30:\n",
    "    print(\"Number is within the range\")\n",
    "else:\n",
    "    print(\"Number is not within the range\")"
   ]
  },
  {
   "cell_type": "code",
   "execution_count": 4,
   "id": "8d016445-e3a1-4782-8620-b190f73caaaf",
   "metadata": {},
   "outputs": [
    {
     "name": "stdin",
     "output_type": "stream",
     "text": [
      "Enter year: 2004\n"
     ]
    },
    {
     "name": "stdout",
     "output_type": "stream",
     "text": [
      "Leap year\n"
     ]
    }
   ],
   "source": [
    "#11.\n",
    "year = int(input(\"Enter year:\"))\n",
    "if (year % 4 == 0 and year % 100 != 0) or (year % 400 == 0):\n",
    "    print(\"Leap year\")\n",
    "else:\n",
    "    print(\"Not a leap year\")"
   ]
  },
  {
   "cell_type": "code",
   "execution_count": null,
   "id": "40acae6f-fbef-47e2-bccd-57ed1f91220c",
   "metadata": {},
   "outputs": [],
   "source": [
    "#12\n",
    "# list of elements to calculate median \n",
    "n_num = [1, 2, 3, 4, 5] \n",
    "n = len(n_num) \n",
    "n_num.sort() \n",
    "if n % 2 == 0: \n",
    "    median1 = n_num[n//2] \n",
    "    median2 = n_num[n//2 + 1] \n",
    "    median = (median1 + median2)/2\n",
    "else: \n",
    "    median = n_num[(n+1)//2] \n",
    "print(\"Median is: \" + str(median))"
   ]
  }
 ],
 "metadata": {
  "kernelspec": {
   "display_name": "Python 3 (ipykernel)",
   "language": "python",
   "name": "python3"
  },
  "language_info": {
   "codemirror_mode": {
    "name": "ipython",
    "version": 3
   },
   "file_extension": ".py",
   "mimetype": "text/x-python",
   "name": "python",
   "nbconvert_exporter": "python",
   "pygments_lexer": "ipython3",
   "version": "3.11.7"
  }
 },
 "nbformat": 4,
 "nbformat_minor": 5
}
