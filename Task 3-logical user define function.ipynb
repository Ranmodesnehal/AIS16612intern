{
 "cells": [
  {
   "cell_type": "markdown",
   "id": "c519c316-a4be-48cf-ad85-f8aee3195314",
   "metadata": {},
   "source": [
    "# Logical user define function"
   ]
  },
  {
   "cell_type": "markdown",
   "id": "e5dee529-a44c-46eb-94c2-4ad563956cb6",
   "metadata": {},
   "source": [
    "* Syntex  \n",
    "#Declaring a function  \n",
    "def fun():  \n",
    "print(\"Inside function\")  \n",
    "#Driver's code  \n",
    "#Calling function  \n",
    "fun()  "
   ]
  },
  {
   "cell_type": "code",
   "execution_count": 41,
   "id": "5f444ed6-70e2-428c-8b86-0b6d7316d660",
   "metadata": {},
   "outputs": [
    {
     "data": {
      "text/plain": [
       "True"
      ]
     },
     "execution_count": 41,
     "metadata": {},
     "output_type": "execute_result"
    }
   ],
   "source": [
    "# Function to check even number\n",
    "def even(num):\n",
    "     return num % 2 ==0\n",
    "num=24\n",
    "even(num)"
   ]
  },
  {
   "cell_type": "code",
   "execution_count": 43,
   "id": "ceadbc1a-25c2-4edd-be9c-921aad9cbd7f",
   "metadata": {},
   "outputs": [
    {
     "name": "stdout",
     "output_type": "stream",
     "text": [
      "True\n"
     ]
    },
    {
     "data": {
      "text/plain": [
       "True"
      ]
     },
     "execution_count": 43,
     "metadata": {},
     "output_type": "execute_result"
    }
   ],
   "source": [
    "# Function to check odd number\n",
    "def odd(num):\n",
    "     return num % 2 != 0\n",
    "num=11\n",
    "print(odd(11))\n",
    "odd(num)"
   ]
  },
  {
   "cell_type": "code",
   "execution_count": 44,
   "id": "e41dd430-4da8-4d81-936b-fcb83eb024dd",
   "metadata": {},
   "outputs": [
    {
     "data": {
      "text/plain": [
       "'B'"
      ]
     },
     "execution_count": 44,
     "metadata": {},
     "output_type": "execute_result"
    }
   ],
   "source": [
    "# To determine grade\n",
    "def det_grade(score):\n",
    "    if score>=90:\n",
    "        return 'A'\n",
    "    elif score>=80:\n",
    "        return 'B'\n",
    "    elif score>=70:\n",
    "        return 'C'\n",
    "    elif score>=60:\n",
    "        return 'D'\n",
    "    else:\n",
    "        return 'F'\n",
    "score=85\n",
    "det_grade(score)"
   ]
  },
  {
   "cell_type": "code",
   "execution_count": 36,
   "id": "7ed913b1-16fd-4494-8a1e-b3e16ca3a296",
   "metadata": {},
   "outputs": [
    {
     "name": "stdout",
     "output_type": "stream",
     "text": [
      "2028 is leap year\n"
     ]
    },
    {
     "data": {
      "text/plain": [
       "True"
      ]
     },
     "execution_count": 36,
     "metadata": {},
     "output_type": "execute_result"
    }
   ],
   "source": [
    "# To check leap year\n",
    "def is_leap_year(year):\n",
    "    if ((year % 4 == 0 and year % 100 != 0) or (year % 400 == 0)):\n",
    "        return True\n",
    "    return False\n",
    "year=2028\n",
    "print(year,\"is leap year\",)\n",
    "is_leap_year(year)\n"
   ]
  },
  {
   "cell_type": "code",
   "execution_count": 13,
   "id": "19061df6-3048-4903-b511-e906a7e41c4f",
   "metadata": {},
   "outputs": [
    {
     "data": {
      "text/plain": [
       "True"
      ]
     },
     "execution_count": 13,
     "metadata": {},
     "output_type": "execute_result"
    }
   ],
   "source": [
    "# To check prime number\n",
    "def is_prime(num):\n",
    "    if num <= 1:\n",
    "     return False\n",
    "    for i in range(2,int(num**0.5)+1):\n",
    "        if num % i==0:\n",
    "            return False\n",
    "        return True\n",
    "num=11\n",
    "is_prime(num)\n",
    "print(is_prime(11))"
   ]
  },
  {
   "cell_type": "code",
   "execution_count": 15,
   "id": "7f200733-1080-4f83-82d8-2dbd9dc7b4eb",
   "metadata": {},
   "outputs": [
    {
     "name": "stdout",
     "output_type": "stream",
     "text": [
      "True\n",
      "False\n"
     ]
    }
   ],
   "source": [
    "# to check perfect square\n",
    "def is_perfect_sq(num):\n",
    "    return int(num**0.5)**2==num\n",
    "print(is_perfect_sq(81))\n",
    "print(is_perfect_sq(80))"
   ]
  },
  {
   "cell_type": "code",
   "execution_count": 18,
   "id": "5e1e5f3b-8cb5-4ea1-b1de-73b8b25e7816",
   "metadata": {},
   "outputs": [
    {
     "name": "stdout",
     "output_type": "stream",
     "text": [
      "True\n",
      "False\n"
     ]
    }
   ],
   "source": [
    "# check if two string are anagram \n",
    "def are_anagrams(s1,s2):\n",
    "    return sorted(s1)==sorted(s2)\n",
    "print(are_anagrams(\"listen\",\"silent\"))\n",
    "print(are_anagrams(\"hello\",\"world\"))"
   ]
  },
  {
   "cell_type": "code",
   "execution_count": 22,
   "id": "c43c7957-015d-4940-8379-c433da79744d",
   "metadata": {},
   "outputs": [
    {
     "name": "stdout",
     "output_type": "stream",
     "text": [
      "True\n",
      "False\n"
     ]
    }
   ],
   "source": [
    "# check if number is power of two\n",
    "def is_power_of_two(n):\n",
    "    return(n > 0) and (n & (n-1))==0\n",
    "print(is_power_of_two(16))\n",
    "print(is_power_of_two(20))"
   ]
  },
  {
   "cell_type": "code",
   "execution_count": 24,
   "id": "9b188bf4-096a-42ca-8bd8-ae87db44766d",
   "metadata": {},
   "outputs": [
    {
     "name": "stdout",
     "output_type": "stream",
     "text": [
      "True\n",
      "False\n"
     ]
    }
   ],
   "source": [
    "# check if a string contains only digit\n",
    "def digit(n):\n",
    "    return n.isdigit()\n",
    "print(digit(\"1235788\"))\n",
    "print(digit(\"123a7c88f\"))"
   ]
  },
  {
   "cell_type": "code",
   "execution_count": 28,
   "id": "9ca9b112-557d-4d65-98c6-c06f75f80e3d",
   "metadata": {},
   "outputs": [
    {
     "name": "stdout",
     "output_type": "stream",
     "text": [
      "False\n",
      "True\n"
     ]
    }
   ],
   "source": [
    "# to check list is sorted\n",
    "def is_sorted(l1):\n",
    "    return l1==sorted(l1)\n",
    "print(is_sorted([1,2,6,9,4,21]))\n",
    "print(is_sorted([1,2,6,9,45,90]))\n"
   ]
  },
  {
   "cell_type": "code",
   "execution_count": null,
   "id": "c6c3c236-6449-41b7-9172-9517ad97c287",
   "metadata": {},
   "outputs": [],
   "source": []
  }
 ],
 "metadata": {
  "kernelspec": {
   "display_name": "Python 3 (ipykernel)",
   "language": "python",
   "name": "python3"
  },
  "language_info": {
   "codemirror_mode": {
    "name": "ipython",
    "version": 3
   },
   "file_extension": ".py",
   "mimetype": "text/x-python",
   "name": "python",
   "nbconvert_exporter": "python",
   "pygments_lexer": "ipython3",
   "version": "3.11.7"
  }
 },
 "nbformat": 4,
 "nbformat_minor": 5
}
