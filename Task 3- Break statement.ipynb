{
 "cells": [
  {
   "cell_type": "markdown",
   "id": "be6766de-ff0f-44ab-8f35-df735b552482",
   "metadata": {},
   "source": [
    "# Break Statement"
   ]
  },
  {
   "cell_type": "markdown",
   "id": "9d5f53ff-1a4b-404f-95b8-e3666b9bb1fc",
   "metadata": {},
   "source": [
    "* Python has a set of keywords that are reserved words that cannot be used as variable names, function names, or any other identifiers.  \n",
    "Example Break , continue, and, elif, else, ect.  \n",
    "* The break keyword is used to break out a for loop, or a while loop.}"
   ]
  },
  {
   "cell_type": "markdown",
   "id": "7211c3a1-e17e-4407-b08c-4be809e8a3ef",
   "metadata": {},
   "source": [
    "* Syntex  \n",
    "  Loop{  \n",
    "   Condition:  \n",
    "        break  \n",
    "      }  \n",
    "    break statement in Python is used to bring the control out of the loop when some external condition is triggered. break statement is put inside the loop body (generally after if condition).  It terminates the current loop, i.e., the loop in which it appears, and resumes execution at the next statement immediately after the end of that loop. If the break statement is inside a nested loop, the break will terminate the innermost loop."
   ]
  },
  {
   "cell_type": "code",
   "execution_count": 2,
   "id": "23f352a9-2af3-4a76-b751-1ae22bb63db1",
   "metadata": {},
   "outputs": [
    {
     "name": "stdout",
     "output_type": "stream",
     "text": [
      "1\n",
      "2\n",
      "3\n"
     ]
    }
   ],
   "source": [
    "# Break out of a while loop:\n",
    "i = 1\n",
    "while i < 9:\n",
    "  print(i)\n",
    "  if i == 3:\n",
    "    break\n",
    "  i += 1"
   ]
  },
  {
   "cell_type": "code",
   "execution_count": 3,
   "id": "1b8d7b35-3686-40d3-9205-2ce05ec03c40",
   "metadata": {},
   "outputs": [
    {
     "name": "stdout",
     "output_type": "stream",
     "text": [
      "0\n",
      "1\n",
      "2\n"
     ]
    }
   ],
   "source": [
    "# Break out of a while loop:\n",
    "for i in range(10): \n",
    "    print(i) \n",
    "    if i == 2: \n",
    "        break"
   ]
  },
  {
   "cell_type": "code",
   "execution_count": 5,
   "id": "a3462fd5-6e0f-4ddf-b93e-9746f30b760f",
   "metadata": {},
   "outputs": [
    {
     "name": "stdout",
     "output_type": "stream",
     "text": [
      "Current Letter : P\n",
      "Current Letter : y\n",
      "Current Letter : t\n"
     ]
    }
   ],
   "source": [
    "for letter in 'Python':\n",
    "    if letter == 'h':\n",
    "        break\n",
    "    print('Current Letter :', letter)"
   ]
  },
  {
   "cell_type": "code",
   "execution_count": 6,
   "id": "83b40546-eb0b-462d-a209-3365d0c477bc",
   "metadata": {},
   "outputs": [
    {
     "name": "stdin",
     "output_type": "stream",
     "text": [
      "Enter 'quit' to exit:  no\n"
     ]
    },
    {
     "name": "stdout",
     "output_type": "stream",
     "text": [
      "You typed: no\n"
     ]
    },
    {
     "name": "stdin",
     "output_type": "stream",
     "text": [
      "Enter 'quit' to exit:  quit\n"
     ]
    }
   ],
   "source": [
    "while True:\n",
    "    response = input(\"Enter 'quit' to exit: \")\n",
    "    if response == 'quit':\n",
    "        break\n",
    "    print(\"You typed:\", response)"
   ]
  },
  {
   "cell_type": "code",
   "execution_count": null,
   "id": "41013cd5-f8a0-478a-ac56-b4c1927155ff",
   "metadata": {},
   "outputs": [],
   "source": []
  }
 ],
 "metadata": {
  "kernelspec": {
   "display_name": "Python 3 (ipykernel)",
   "language": "python",
   "name": "python3"
  },
  "language_info": {
   "codemirror_mode": {
    "name": "ipython",
    "version": 3
   },
   "file_extension": ".py",
   "mimetype": "text/x-python",
   "name": "python",
   "nbconvert_exporter": "python",
   "pygments_lexer": "ipython3",
   "version": "3.11.7"
  }
 },
 "nbformat": 4,
 "nbformat_minor": 5
}
