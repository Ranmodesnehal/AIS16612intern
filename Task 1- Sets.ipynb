{
 "cells": [
  {
   "cell_type": "markdown",
   "id": "6241fd6d-7e5e-43c5-a701-27fc6ac986b2",
   "metadata": {},
   "source": [
    "# Sets"
   ]
  },
  {
   "cell_type": "markdown",
   "id": "ea6a2b89-74ba-4f7b-9bc0-f450514244d3",
   "metadata": {},
   "source": [
    "* Sets are used to store multiple items in a single variable\n",
    "* Sets does not allows duplication.\n",
    "* A set is a collection which is unordered, unchangeable*, and unindexed.\n",
    "* Sets are written with curly brackets."
   ]
  },
  {
   "cell_type": "code",
   "execution_count": 1,
   "id": "c775583e-b717-4cc1-b03d-631d143f0872",
   "metadata": {},
   "outputs": [
    {
     "name": "stdout",
     "output_type": "stream",
     "text": [
      "{'apple', 'cherry', 'banana'}\n"
     ]
    }
   ],
   "source": [
    "# Create a set\n",
    "set = {\"apple\", \"banana\", \"cherry\"}\n",
    "print(set)"
   ]
  },
  {
   "cell_type": "code",
   "execution_count": null,
   "id": "4528a396-b881-4824-80ec-443ea7adecaa",
   "metadata": {},
   "outputs": [],
   "source": [
    "# Duplication\n",
    "set={\"apple\", \"banana\", \"cherry\",\"apple\"}\n",
    "print(set)"
   ]
  },
  {
   "cell_type": "code",
   "execution_count": 2,
   "id": "e7e62607-0948-426b-a10e-aed0860db821",
   "metadata": {},
   "outputs": [
    {
     "name": "stdout",
     "output_type": "stream",
     "text": [
      "{'apple', 2, True, 'banana', 'cherry'}\n"
     ]
    }
   ],
   "source": [
    "# True and 1 considered as one value\n",
    "set = {\"apple\", \"banana\", \"cherry\", True, 1, 2}\n",
    "print(set)"
   ]
  },
  {
   "cell_type": "code",
   "execution_count": 3,
   "id": "0aac0e9d-f5f6-4a0b-a91f-fd9b25fbcca2",
   "metadata": {},
   "outputs": [
    {
     "name": "stdout",
     "output_type": "stream",
     "text": [
      "{False, 'apple', True, 'banana', 'cherry'}\n"
     ]
    }
   ],
   "source": [
    "# False and 0 is considered the same value:\n",
    "set = {\"apple\", \"banana\", \"cherry\", False, True, 0}\n",
    "print(set)"
   ]
  },
  {
   "cell_type": "markdown",
   "id": "91b81c6a-26ee-4df2-90ee-9f8a97c659ba",
   "metadata": {},
   "source": [
    "* Get the Length of a Set  \n",
    "To determine how many items a set has, use the len() function."
   ]
  },
  {
   "cell_type": "code",
   "execution_count": 4,
   "id": "60309d16-f165-4ead-b61b-a7e7d3418bac",
   "metadata": {},
   "outputs": [
    {
     "name": "stdout",
     "output_type": "stream",
     "text": [
      "3\n"
     ]
    }
   ],
   "source": [
    "# The number of items in a set\n",
    "set = {\"apple\", \"banana\", \"cherry\"}\n",
    "print(len(set))"
   ]
  },
  {
   "cell_type": "markdown",
   "id": "f1d39bb0-8386-49ea-a241-5b85dd6ae292",
   "metadata": {},
   "source": [
    "* Set Items - Data Types   \n",
    "There are three types\n",
    "1. String \n",
    "2. int \n",
    "3. boolean \n"
   ]
  },
  {
   "cell_type": "code",
   "execution_count": 5,
   "id": "dff59f49-fa85-4f72-89ba-b24ed076b961",
   "metadata": {},
   "outputs": [
    {
     "name": "stdout",
     "output_type": "stream",
     "text": [
      "<class 'set'>\n",
      "<class 'set'>\n",
      "<class 'set'>\n"
     ]
    }
   ],
   "source": [
    "set1 = {\"apple\", \"banana\", \"cherry\"}\n",
    "set2 = {1, 5, 7, 9, 3}\n",
    "set3 = {True, False, False}\n",
    "print(type(set1))\n",
    "print(type(set2))\n",
    "print(type(set3))"
   ]
  },
  {
   "cell_type": "code",
   "execution_count": 1,
   "id": "3006d3ff-db27-4056-ae03-a38e4e369235",
   "metadata": {},
   "outputs": [
    {
     "name": "stdout",
     "output_type": "stream",
     "text": [
      "{'cherry', 'banana', 'apple'}\n"
     ]
    }
   ],
   "source": [
    "# Using the set() constructor to make a set:\n",
    "thisset=set((\"apple\", \"banana\", \"cherry\")) \n",
    "print(thisset)"
   ]
  },
  {
   "cell_type": "markdown",
   "id": "e061c2be-cb65-4d49-b54f-099dd52587b5",
   "metadata": {},
   "source": [
    "# Set Methods\n",
    "Python has a set of built-in methods that you can use on sets."
   ]
  },
  {
   "cell_type": "raw",
   "id": "7caff493-a01c-49d8-8271-83022f3e330d",
   "metadata": {},
   "source": [
    "Method\t               Shortcut         \t        Description  \n",
    "add()\t \t                              Adds an element to the set  \n",
    "clear()\t \t                             Removes all the elements from the set  \n",
    "copy()\t \t                             Returns a copy of the set  \n",
    "difference()\t             -\t         Returns a set containing the difference between two or more sets  \n",
    "difference_update()\t        -=\t         Removes the items in this set that are also included in another, specified set  \n",
    "discard()\t \t                         Remove the specified item  \n",
    "intersection()\t             &\t         Returns a set, that is the intersection of two other sets  \n",
    "intersection_update()\t    &=\t         Removes the items in this set that are not present in other, specified set(s)  \n",
    "isdisjoint()\t \t                     Returns whether two sets have a intersection or not  \n",
    "issubset()\t                <=\t         Returns whether another set contains this set or not  \n",
    " \t                        <\t         Returns whether all items in this set is present in other, specified set(s)  \n",
    "issuperset()\t            >=\t         Returns whether this set contains another set or not  \n",
    " \t                        >\t         Returns whether all items in other, specified set(s) is present in this set  \n",
    "pop()\t                     \t         Removes an element from the set  \n",
    "remove()\t                \t         Removes the specified element  \n",
    "symmetric_difference()    \t ^\t         Returns a set with the symmetric differences of two sets  \n",
    "symmetric_difference_update() ^=\t     Inserts the symmetric differences from this set and another  \n",
    "union()\t                      |\t         Return a set containing the union of sets \n",
    "update()\t                 |=\t         Update the set with the union of this set and others  "
   ]
  },
  {
   "cell_type": "markdown",
   "id": "d1d14b49-2a34-46f8-a91e-be6630bac3ee",
   "metadata": {},
   "source": [
    "* Examples of methodes"
   ]
  },
  {
   "cell_type": "code",
   "execution_count": 1,
   "id": "9eb1719c-9632-4a2c-af82-2e971fe290bd",
   "metadata": {},
   "outputs": [
    {
     "name": "stdout",
     "output_type": "stream",
     "text": [
      "{'orange', 'cherry', 'apple', 'banana'}\n"
     ]
    }
   ],
   "source": [
    "#Add an element to the fruits set:\n",
    "fruits = {\"apple\", \"banana\", \"cherry\"}\n",
    "fruits.add(\"orange\")\n",
    "print(fruits)"
   ]
  },
  {
   "cell_type": "code",
   "execution_count": 3,
   "id": "e60b6308-0939-4cd5-8a18-c852ac9111e5",
   "metadata": {},
   "outputs": [
    {
     "name": "stdout",
     "output_type": "stream",
     "text": [
      "set()\n"
     ]
    }
   ],
   "source": [
    "#Remove all elements from the fruits set:\n",
    "fruits = {\"apple\", \"banana\", \"cherry\"}\n",
    "fruits.clear()\n",
    "print(fruits)"
   ]
  },
  {
   "cell_type": "code",
   "execution_count": 4,
   "id": "a4466eb1-aa91-4c77-9b5a-0656502b37c4",
   "metadata": {},
   "outputs": [
    {
     "name": "stdout",
     "output_type": "stream",
     "text": [
      "set()\n"
     ]
    }
   ],
   "source": [
    "#Copy the fruits set:\n",
    "fuits = {\"apple\", \"banana\", \"cherry\"}\n",
    "x = fruits.copy()\n",
    "print(x)"
   ]
  },
  {
   "cell_type": "code",
   "execution_count": 5,
   "id": "b1f84cb3-8c94-4baa-a873-1ea86488d2ae",
   "metadata": {},
   "outputs": [
    {
     "name": "stdout",
     "output_type": "stream",
     "text": [
      "{'cherry', 'banana'}\n"
     ]
    }
   ],
   "source": [
    "#Return a set that contains the items that only exist in set x, and not in set y:\n",
    "x = {\"apple\", \"banana\", \"cherry\"}\n",
    "y = {\"google\", \"microsoft\", \"apple\"}\n",
    "z = x.difference(y)\n",
    "print(z)"
   ]
  },
  {
   "cell_type": "code",
   "execution_count": 6,
   "id": "f636a54b-a4d8-47b7-9fb5-6943a3754229",
   "metadata": {},
   "outputs": [
    {
     "name": "stdout",
     "output_type": "stream",
     "text": [
      "{'cherry', 'banana'}\n"
     ]
    }
   ],
   "source": [
    "#Remove the items that exist in both sets:\n",
    "x = {\"apple\", \"banana\", \"cherry\"}\n",
    "y = {\"google\", \"microsoft\", \"apple\"}\n",
    "x.difference_update(y)\n",
    "print(x)"
   ]
  },
  {
   "cell_type": "code",
   "execution_count": 7,
   "id": "06ea1f14-a6a7-401c-a996-46a418570998",
   "metadata": {},
   "outputs": [
    {
     "name": "stdout",
     "output_type": "stream",
     "text": [
      "{'cherry', 'apple'}\n"
     ]
    }
   ],
   "source": [
    "#Remove \"banana\" from the set:\n",
    "fruits = {\"apple\", \"banana\", \"cherry\"}\n",
    "fruits.discard(\"banana\")\n",
    "print(fruits)"
   ]
  },
  {
   "cell_type": "code",
   "execution_count": 8,
   "id": "d57ed4e4-df36-4f2c-96da-66421abf0590",
   "metadata": {},
   "outputs": [
    {
     "name": "stdout",
     "output_type": "stream",
     "text": [
      "{'apple'}\n"
     ]
    }
   ],
   "source": [
    "#Return a set that contains the items that exist in both set x, and set y:\n",
    "x = {\"apple\", \"banana\", \"cherry\"}\n",
    "y = {\"google\", \"microsoft\", \"apple\"}\n",
    "z = x.intersection(y)\n",
    "print(z)"
   ]
  },
  {
   "cell_type": "code",
   "execution_count": 9,
   "id": "0f9725bf-9f00-4409-96b8-dd8adab82137",
   "metadata": {},
   "outputs": [
    {
     "name": "stdout",
     "output_type": "stream",
     "text": [
      "{'apple'}\n"
     ]
    }
   ],
   "source": [
    "#Remove the items that is not present in both x and y:\n",
    "x = {\"apple\", \"banana\", \"cherry\"}\n",
    "y = {\"google\", \"microsoft\", \"apple\"}\n",
    "x.intersection_update(y)\n",
    "print(x)"
   ]
  },
  {
   "cell_type": "code",
   "execution_count": 10,
   "id": "9e395f17-6cd2-4895-a417-577b85f3c47f",
   "metadata": {},
   "outputs": [
    {
     "name": "stdout",
     "output_type": "stream",
     "text": [
      "True\n"
     ]
    }
   ],
   "source": [
    "#Return True if no items in set x is present in set y:\n",
    "x = {\"apple\", \"banana\", \"cherry\"}\n",
    "y = {\"google\", \"microsoft\", \"facebook\"}\n",
    "z = x.isdisjoint(y)\n",
    "print(z)"
   ]
  },
  {
   "cell_type": "code",
   "execution_count": 11,
   "id": "3736834b-39ec-4839-a0c0-46e26b2bc7b0",
   "metadata": {},
   "outputs": [
    {
     "name": "stdout",
     "output_type": "stream",
     "text": [
      "True\n"
     ]
    }
   ],
   "source": [
    "#Return True if all items in set x are present in set y:\n",
    "x = {\"a\", \"b\", \"c\"}\n",
    "y = {\"f\", \"e\", \"d\", \"c\", \"b\", \"a\"}\n",
    "z = x.issubset(y)\n",
    "print(z)"
   ]
  },
  {
   "cell_type": "code",
   "execution_count": 12,
   "id": "f87f04d3-6f45-4c33-9eff-60caf7b879df",
   "metadata": {},
   "outputs": [
    {
     "name": "stdout",
     "output_type": "stream",
     "text": [
      "True\n"
     ]
    }
   ],
   "source": [
    "#Return True if all items set y are present in set x:\n",
    "x = {\"f\", \"e\", \"d\", \"c\", \"b\", \"a\"}\n",
    "y = {\"a\", \"b\", \"c\"}\n",
    "z = x.issuperset(y)\n",
    "print(z)"
   ]
  },
  {
   "cell_type": "code",
   "execution_count": 13,
   "id": "7ad352ca-b85b-4148-a2a3-cbe0d647d44d",
   "metadata": {},
   "outputs": [
    {
     "name": "stdout",
     "output_type": "stream",
     "text": [
      "{'apple', 'banana'}\n"
     ]
    }
   ],
   "source": [
    "#Remove a random item from the set:\n",
    "fruits = {\"apple\", \"banana\", \"cherry\"}\n",
    "fruits.pop()\n",
    "print(fruits)"
   ]
  },
  {
   "cell_type": "code",
   "execution_count": 14,
   "id": "0e86206e-cbe7-4151-aeb6-2f5003008b16",
   "metadata": {},
   "outputs": [
    {
     "name": "stdout",
     "output_type": "stream",
     "text": [
      "{'cherry', 'apple'}\n"
     ]
    }
   ],
   "source": [
    "#Remove \"banana\" from the set:\n",
    "fruits = {\"apple\", \"banana\", \"cherry\"}\n",
    "fruits.remove(\"banana\")\n",
    "print(fruits)"
   ]
  },
  {
   "cell_type": "code",
   "execution_count": 15,
   "id": "cde75ee5-9238-4917-b7d5-ef99c5fa0b32",
   "metadata": {},
   "outputs": [
    {
     "name": "stdout",
     "output_type": "stream",
     "text": [
      "{'cherry', 'microsoft', 'banana', 'google'}\n"
     ]
    }
   ],
   "source": [
    "#Return a set that contains all items from both sets, except items that are present in both sets:\n",
    "x = {\"apple\", \"banana\", \"cherry\"}\n",
    "y = {\"google\", \"microsoft\", \"apple\"}\n",
    "z = x.symmetric_difference(y)\n",
    "print(z)"
   ]
  },
  {
   "cell_type": "code",
   "execution_count": 16,
   "id": "c466ef51-af6e-4b69-8423-a493e5e94283",
   "metadata": {},
   "outputs": [
    {
     "name": "stdout",
     "output_type": "stream",
     "text": [
      "{'cherry', 'apple', 'banana', 'microsoft', 'google'}\n"
     ]
    }
   ],
   "source": [
    "#Return a set that contains all items from both sets, duplicates are excluded:\n",
    "x = {\"apple\", \"banana\", \"cherry\"}\n",
    "y = {\"google\", \"microsoft\", \"apple\"}\n",
    "z = x.union(y)\n",
    "print(z)"
   ]
  },
  {
   "cell_type": "code",
   "execution_count": null,
   "id": "6f09c9a7-f858-4233-ab73-db7e108c4cb5",
   "metadata": {},
   "outputs": [],
   "source": []
  },
  {
   "cell_type": "code",
   "execution_count": null,
   "id": "e94784a6-ec6f-49e0-b111-77f68b3c9220",
   "metadata": {},
   "outputs": [],
   "source": []
  }
 ],
 "metadata": {
  "kernelspec": {
   "display_name": "Python 3 (ipykernel)",
   "language": "python",
   "name": "python3"
  },
  "language_info": {
   "codemirror_mode": {
    "name": "ipython",
    "version": 3
   },
   "file_extension": ".py",
   "mimetype": "text/x-python",
   "name": "python",
   "nbconvert_exporter": "python",
   "pygments_lexer": "ipython3",
   "version": "3.11.7"
  }
 },
 "nbformat": 4,
 "nbformat_minor": 5
}
