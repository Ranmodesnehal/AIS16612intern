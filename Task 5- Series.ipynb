{
 "cells": [
  {
   "cell_type": "markdown",
   "id": "b644248b-2f44-4c11-a661-c23b14c90b5d",
   "metadata": {},
   "source": [
    "# Pandas Series\n",
    "* A Pandas Series is like a column in a table.\n",
    "* It is a one-dimensional array holding data of any type."
   ]
  },
  {
   "cell_type": "code",
   "execution_count": 4,
   "id": "ad3fa163-eb71-4bf0-8935-96512d21eab2",
   "metadata": {},
   "outputs": [
    {
     "name": "stdout",
     "output_type": "stream",
     "text": [
      "0    1\n",
      "1    7\n",
      "2    2\n",
      "dtype: int64\n",
      "RangeIndex(start=0, stop=3, step=1)\n"
     ]
    }
   ],
   "source": [
    "# Create a simple Pandas Series from a list:\n",
    "import pandas as pd\n",
    "a = [1, 7, 2]\n",
    "myvar = pd.Series(a)\n",
    "print(myvar)\n",
    "print(myvar.index)"
   ]
  },
  {
   "cell_type": "code",
   "execution_count": 3,
   "id": "f183e974-ba7f-4c57-9062-709f4a279b94",
   "metadata": {},
   "outputs": [
    {
     "name": "stdout",
     "output_type": "stream",
     "text": [
      "0    10\n",
      "1    20\n",
      "2    30\n",
      "3    40\n",
      "4    50\n",
      "dtype: int64\n",
      "0    10\n",
      "1    20\n",
      "2    30\n",
      "3    40\n",
      "4    50\n",
      "dtype: int32\n"
     ]
    }
   ],
   "source": [
    "# From a list\n",
    "my_list = [10, 20, 30, 40, 50]\n",
    "series_from_list = pd.Series(my_list)\n",
    "print(series_from_list)\n",
    "\n",
    "# From a NumPy array\n",
    "import numpy as np\n",
    "my_array = np.array([10, 20, 30, 40, 50])\n",
    "series_from_array = pd.Series(my_array)\n",
    "print(series_from_array)"
   ]
  },
  {
   "cell_type": "code",
   "execution_count": 14,
   "id": "f4b7b71f-484c-45ce-b8e1-bb1a990898c8",
   "metadata": {},
   "outputs": [
    {
     "name": "stdout",
     "output_type": "stream",
     "text": [
      "1\n",
      "x    1\n",
      "y    7\n",
      "z    2\n",
      "dtype: int64\n"
     ]
    }
   ],
   "source": [
    "# index\n",
    "#If nothing else is specified, the values are labeled with their index number. First value has index 0, second value has index 1 etc.\n",
    "#This label can be used to access a specified value.\n",
    "#Return the first value of the Series:\n",
    "print(myvar[0])\n",
    "# or \n",
    "import pandas as pd\n",
    "a = [1, 7, 2]\n",
    "myvar = pd.Series(a, index = [\"x\", \"y\", \"z\"])\n",
    "print(myvar)"
   ]
  },
  {
   "cell_type": "code",
   "execution_count": 5,
   "id": "a1595c84-03c1-4410-b0ad-549d901da93e",
   "metadata": {},
   "outputs": [
    {
     "name": "stdout",
     "output_type": "stream",
     "text": [
      "a    10\n",
      "b    20\n",
      "c    30\n",
      "d    40\n",
      "e    50\n",
      "dtype: int64\n"
     ]
    }
   ],
   "source": [
    "# series from a dictionary \n",
    "\n",
    "my_dict = {'a': 10, 'b': 20, 'c': 30, 'd': 40, 'e': 50}\n",
    "series_from_dict = pd.Series(my_dict)\n",
    "print(series_from_dict)"
   ]
  },
  {
   "cell_type": "code",
   "execution_count": 13,
   "id": "e351604f-73d6-4f32-af97-b7841189d469",
   "metadata": {},
   "outputs": [
    {
     "name": "stdout",
     "output_type": "stream",
     "text": [
      "a    5\n",
      "b    4\n",
      "c    6\n",
      "d    1\n",
      "e    2\n",
      "dtype: int64\n",
      "a    5\n",
      "b    5\n",
      "c    5\n",
      "d    5\n",
      "e    5\n",
      "dtype: int64\n"
     ]
    }
   ],
   "source": [
    "# series of a specified length with the same scalar value.\n",
    "scalar_value = [5,4,6,1,2]\n",
    "series_scalar = pd.Series(scalar_value, index=['a', 'b', 'c', 'd', 'e'])\n",
    "print(series_scalar)\n",
    "# or\n",
    "x=5\n",
    "series_scalar=pd.Series(x,index=['a','b','c','d','e'])\n",
    "print(series_scalar)"
   ]
  },
  {
   "cell_type": "code",
   "execution_count": 1,
   "id": "71038f36-8b9e-4c55-9b12-490670c2fcd6",
   "metadata": {},
   "outputs": [
    {
     "name": "stdout",
     "output_type": "stream",
     "text": [
      "0    1\n",
      "1    2\n",
      "2    3\n",
      "3    4\n",
      "4    5\n",
      "dtype: int32\n"
     ]
    }
   ],
   "source": [
    "# From a NumPy Array:\n",
    "\n",
    "import pandas as pd\n",
    "import numpy as np\n",
    "data = np.array([1, 2, 3, 4, 5])\n",
    "series = pd.Series(data)\n",
    "print(series)"
   ]
  },
  {
   "cell_type": "code",
   "execution_count": 2,
   "id": "86f3ce54-e0b4-45fd-9519-d7bb05739dac",
   "metadata": {},
   "outputs": [
    {
     "name": "stdout",
     "output_type": "stream",
     "text": [
      "A    1\n",
      "B    2\n",
      "C    3\n",
      "D    4\n",
      "E    5\n",
      "dtype: int64\n"
     ]
    }
   ],
   "source": [
    "# specify custom indices when creating a series:\n",
    "import pandas as pd\n",
    "data = [1, 2, 3, 4, 5]\n",
    "indices = ['A', 'B', 'C', 'D', 'E']\n",
    "series = pd.Series(data, index=indices)\n",
    "print(series)"
   ]
  },
  {
   "cell_type": "code",
   "execution_count": 3,
   "id": "982b5c98-4251-4a1e-b9b5-f9212877a663",
   "metadata": {},
   "outputs": [
    {
     "name": "stdout",
     "output_type": "stream",
     "text": [
      "   calories  duration\n",
      "0       420        50\n",
      "1       380        40\n",
      "2       390        45\n"
     ]
    }
   ],
   "source": [
    "# Create a DataFrame from two Series:\n",
    "import pandas as pd\n",
    "data = {\n",
    "  \"calories\": [420, 380, 390],\n",
    "  \"duration\": [50, 40, 45]\n",
    "}\n",
    "myvar = pd.DataFrame(data)\n",
    "print(myvar)"
   ]
  },
  {
   "cell_type": "markdown",
   "id": "9a53db28-1bff-4b85-a931-3e7a4457948b",
   "metadata": {},
   "source": [
    "# operation of series"
   ]
  },
  {
   "cell_type": "code",
   "execution_count": 6,
   "id": "de4ccb1e-fdb9-4a5c-915c-2f1d6a26e147",
   "metadata": {},
   "outputs": [
    {
     "name": "stdout",
     "output_type": "stream",
     "text": [
      "1\n",
      "2    3\n",
      "3    4\n",
      "dtype: int64\n"
     ]
    }
   ],
   "source": [
    "#1.Indexing and Slicing:\n",
    "\n",
    "series = pd.Series([1, 2, 3, 4, 5])\n",
    "print(series[0])  # Accessing element at index 0\n",
    "print(series[2:4])  # Slicing from index 2 to 4 (exclusive)"
   ]
  },
  {
   "cell_type": "code",
   "execution_count": 10,
   "id": "80be840d-2802-4452-9338-dc1e154bbcf5",
   "metadata": {},
   "outputs": [
    {
     "name": "stdout",
     "output_type": "stream",
     "text": [
      "0     2\n",
      "1     4\n",
      "2     6\n",
      "3     8\n",
      "4    10\n",
      "dtype: int64\n",
      "0    3\n",
      "1    4\n",
      "2    5\n",
      "3    6\n",
      "4    7\n",
      "dtype: int64\n",
      "0   -1\n",
      "1    0\n",
      "2    1\n",
      "3    2\n",
      "4    3\n",
      "dtype: int64\n"
     ]
    }
   ],
   "source": [
    "#2.Mathematical Operations:\n",
    "\n",
    "series = pd.Series([1, 2, 3, 4, 5])\n",
    "result = series * 2  # Multiply each element by 2\n",
    "result1=series + 2   # add 2 in each element\n",
    "result2=series - 2   # substract 2 in each element\n",
    "print(result)\n",
    "print(result1)\n",
    "print(result2)"
   ]
  },
  {
   "cell_type": "code",
   "execution_count": 12,
   "id": "08911c3e-ecd0-4383-83b6-8230a15aea3f",
   "metadata": {},
   "outputs": [
    {
     "name": "stdout",
     "output_type": "stream",
     "text": [
      "3    4\n",
      "4    5\n",
      "dtype: int64\n"
     ]
    }
   ],
   "source": [
    "#3.Boolean Indexing:\n",
    "\n",
    "series = pd.Series([1, 2, 3, 4, 5])\n",
    "filtered = series[series > 3]  # Select elements greater than 3\n",
    "print(filtered)"
   ]
  },
  {
   "cell_type": "code",
   "execution_count": 13,
   "id": "430ed246-17da-478f-9896-a633945fadeb",
   "metadata": {},
   "outputs": [
    {
     "name": "stdout",
     "output_type": "stream",
     "text": [
      "3.0\n"
     ]
    }
   ],
   "source": [
    "#4.Descriptive Statistics:\n",
    "\n",
    "series = pd.Series([1, 2, 3, 4, 5])\n",
    "print(series.mean())  # Compute the mean of the series\n"
   ]
  },
  {
   "cell_type": "code",
   "execution_count": 14,
   "id": "d6d4102c-6ae4-46dc-9887-1358004b7fe4",
   "metadata": {},
   "outputs": [
    {
     "name": "stdout",
     "output_type": "stream",
     "text": [
      "0    False\n",
      "1    False\n",
      "2     True\n",
      "3    False\n",
      "4    False\n",
      "dtype: bool\n",
      "0    1.0\n",
      "1    2.0\n",
      "3    4.0\n",
      "4    5.0\n",
      "dtype: float64\n"
     ]
    }
   ],
   "source": [
    "#5.Handling Missing Data:\n",
    "\n",
    "series = pd.Series([1, 2, np.nan, 4, 5])\n",
    "print(series.isnull())   # Check for missing values\n",
    "print(series.dropna())   # Drop missing values"
   ]
  },
  {
   "cell_type": "code",
   "execution_count": 16,
   "id": "d8bd9f9a-7acc-4dc7-944c-30fabab518d8",
   "metadata": {},
   "outputs": [
    {
     "name": "stdout",
     "output_type": "stream",
     "text": [
      "1    1\n",
      "3    2\n",
      "0    3\n",
      "2    4\n",
      "4    5\n",
      "dtype: int64\n"
     ]
    }
   ],
   "source": [
    "#4.Sorting:\n",
    "\n",
    "series = pd.Series([3, 1, 4, 2, 5])\n",
    "sorted_series = series.sort_values()  # Sort the series\n",
    "print(sorted_series)"
   ]
  },
  {
   "cell_type": "code",
   "execution_count": 18,
   "id": "a1a1c1ac-5432-4bdf-b6bc-2c23effaf43e",
   "metadata": {},
   "outputs": [
    {
     "name": "stdout",
     "output_type": "stream",
     "text": [
      "0     1\n",
      "1     4\n",
      "2     9\n",
      "3    16\n",
      "4    25\n",
      "dtype: int64\n"
     ]
    }
   ],
   "source": [
    "#5.Applying Functions:\n",
    "\n",
    "series = pd.Series([1, 2, 3, 4, 5])\n",
    "squared = series.apply(lambda x: x**2)  # Apply a function to square each element\n",
    "print(squared)"
   ]
  },
  {
   "cell_type": "code",
   "execution_count": 19,
   "id": "fa9fc6e0-16b3-4af5-8327-5676dc0e5384",
   "metadata": {},
   "outputs": [
    {
     "name": "stdout",
     "output_type": "stream",
     "text": [
      "0    1\n",
      "1    2\n",
      "2    3\n",
      "0    4\n",
      "1    5\n",
      "2    6\n",
      "dtype: int64\n"
     ]
    }
   ],
   "source": [
    "#6.Concatenation and Appending:\n",
    "\n",
    "series1 = pd.Series([1, 2, 3])\n",
    "series2 = pd.Series([4, 5, 6])\n",
    "concatenated = pd.concat([series1, series2])  # Concatenate two series\n",
    "print(concatenated)"
   ]
  },
  {
   "cell_type": "code",
   "execution_count": null,
   "id": "988995b1-5432-425c-8377-4dc69af95768",
   "metadata": {},
   "outputs": [],
   "source": []
  }
 ],
 "metadata": {
  "kernelspec": {
   "display_name": "Python 3 (ipykernel)",
   "language": "python",
   "name": "python3"
  },
  "language_info": {
   "codemirror_mode": {
    "name": "ipython",
    "version": 3
   },
   "file_extension": ".py",
   "mimetype": "text/x-python",
   "name": "python",
   "nbconvert_exporter": "python",
   "pygments_lexer": "ipython3",
   "version": "3.11.7"
  }
 },
 "nbformat": 4,
 "nbformat_minor": 5
}
