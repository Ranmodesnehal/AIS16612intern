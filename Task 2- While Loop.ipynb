{
 "cells": [
  {
   "cell_type": "markdown",
   "id": "2b180e16-5129-4b0c-9982-765d8c523756",
   "metadata": {},
   "source": [
    "# While Loop"
   ]
  },
  {
   "cell_type": "markdown",
   "id": "ca26b7c2-1051-48e1-8c3c-bb245825ec42",
   "metadata": {},
   "source": [
    "Python has two primitive loop commands:\n",
    "* while loops\n",
    "* for loops  \n",
    "In Python, we use the while loop to repeat a block of code until a certain condition is met.   \n",
    "* Syntax for while  \n",
    "while condition:  \n",
    "    #body of while loop  \n",
    "\n",
    "Here,  \n",
    "The while loop evaluates the condition.   \n",
    "If the condition is true, body of while loop is executed. The condition is evaluated again.   \n",
    "This process continues until the condition is False.   \n",
    "Once the condition evaluates to False, the loop terminate.  "
   ]
  },
  {
   "cell_type": "code",
   "execution_count": 2,
   "id": "e8aca579-b073-48a9-8010-6719d67968fd",
   "metadata": {},
   "outputs": [
    {
     "name": "stdout",
     "output_type": "stream",
     "text": [
      "1\n",
      "2\n",
      "3\n",
      "4\n",
      "5\n"
     ]
    }
   ],
   "source": [
    "#1.Example\n",
    "i = 1\n",
    "while i < 6:\n",
    "  print(i)\n",
    "  i += 1\n"
   ]
  },
  {
   "cell_type": "code",
   "execution_count": 3,
   "id": "96ac3cdc-cb6f-4e53-beca-2bc77a09fc6f",
   "metadata": {},
   "outputs": [
    {
     "name": "stdout",
     "output_type": "stream",
     "text": [
      "1\n",
      "2\n",
      "3\n"
     ]
    }
   ],
   "source": [
    "# With the break statement we can stop the loop even if the while condition is true:\n",
    "# Exit the loop when i is 3:\n",
    "i = 1\n",
    "while i < 6:\n",
    "  print(i)\n",
    "  if i == 3:\n",
    "    break\n",
    "  i += 1"
   ]
  },
  {
   "cell_type": "code",
   "execution_count": 4,
   "id": "17eac846-44ad-43a7-99d1-21a2a82308b9",
   "metadata": {},
   "outputs": [
    {
     "name": "stdout",
     "output_type": "stream",
     "text": [
      "1\n",
      "2\n",
      "4\n",
      "5\n",
      "6\n"
     ]
    }
   ],
   "source": [
    "# With the continue statement we can stop the current iteration, and continue with the next:\n",
    "#Continue to the next iteration if i is 3:\n",
    "i = 0\n",
    "while i < 6:\n",
    "  i += 1\n",
    "  if i == 3:\n",
    "    continue\n",
    "  print(i)"
   ]
  },
  {
   "cell_type": "code",
   "execution_count": 5,
   "id": "49f30198-05d7-481c-a8a4-85a97faeab31",
   "metadata": {},
   "outputs": [
    {
     "name": "stdout",
     "output_type": "stream",
     "text": [
      "1\n",
      "2\n",
      "3\n"
     ]
    }
   ],
   "source": [
    "number = 1\n",
    "while number <= 3:\n",
    "    print(number)\n",
    "    number = number + 1"
   ]
  },
  {
   "cell_type": "code",
   "execution_count": 9,
   "id": "551f2327-3f6d-4f50-810c-c0a14c13d5a3",
   "metadata": {},
   "outputs": [
    {
     "name": "stdout",
     "output_type": "stream",
     "text": [
      "10\n",
      "9\n",
      "8\n",
      "7\n",
      "6\n",
      "5\n",
      "4\n",
      "3\n",
      "2\n",
      "1\n"
     ]
    }
   ],
   "source": [
    "count = 10\n",
    "while count > 0:\n",
    "    print(count)\n",
    "    count -= 1"
   ]
  },
  {
   "cell_type": "code",
   "execution_count": 6,
   "id": "cbbc258a-244b-49bd-b88c-6f9bb76314a6",
   "metadata": {},
   "outputs": [
    {
     "name": "stdin",
     "output_type": "stream",
     "text": [
      "Enter a number:  21\n",
      "Enter a number:  23\n",
      "Enter a number:  11\n",
      "Enter a number:  6\n",
      "Enter a number:  2\n",
      "Enter a number:  0\n"
     ]
    },
    {
     "name": "stdout",
     "output_type": "stream",
     "text": [
      "The sum is 63\n"
     ]
    }
   ],
   "source": [
    "# Calculate the sum of numbers until user enters 0\n",
    "number = int(input(\"Enter a number: \"))\n",
    "total = 0\n",
    "while number != 0:\n",
    "    total += number\n",
    "    number = int(input(\"Enter a number: \"))\n",
    "print('The sum is', total)"
   ]
  },
  {
   "cell_type": "code",
   "execution_count": 7,
   "id": "d1e3cdb6-5fc7-4d5b-8010-a676935d8947",
   "metadata": {},
   "outputs": [
    {
     "name": "stdin",
     "output_type": "stream",
     "text": [
      "Enter the password:  snehal\n"
     ]
    },
    {
     "name": "stdout",
     "output_type": "stream",
     "text": [
      "Incorrect password. Try again.\n"
     ]
    },
    {
     "name": "stdin",
     "output_type": "stream",
     "text": [
      "Enter the password:  Thorat\n"
     ]
    },
    {
     "name": "stdout",
     "output_type": "stream",
     "text": [
      "Incorrect password. Try again.\n"
     ]
    },
    {
     "name": "stdin",
     "output_type": "stream",
     "text": [
      "Enter the password:  Hole\n"
     ]
    },
    {
     "name": "stdout",
     "output_type": "stream",
     "text": [
      "Incorrect password. Try again.\n"
     ]
    },
    {
     "name": "stdin",
     "output_type": "stream",
     "text": [
      "Enter the password:  secret\n"
     ]
    },
    {
     "name": "stdout",
     "output_type": "stream",
     "text": [
      "Login successful!\n"
     ]
    }
   ],
   "source": [
    "password = \"secret\"\n",
    "attempt = input(\"Enter the password: \")\n",
    "while attempt != password:\n",
    "    print(\"Incorrect password. Try again.\")\n",
    "    attempt = input(\"Enter the password: \")\n",
    "print(\"Login successful!\")"
   ]
  },
  {
   "cell_type": "code",
   "execution_count": 8,
   "id": "10c1407d-bf7f-4814-85fc-b89392b7e8b9",
   "metadata": {},
   "outputs": [
    {
     "name": "stdin",
     "output_type": "stream",
     "text": [
      "Enter your age:  abc\n"
     ]
    },
    {
     "name": "stdout",
     "output_type": "stream",
     "text": [
      "Please enter a valid age.\n"
     ]
    },
    {
     "name": "stdin",
     "output_type": "stream",
     "text": [
      "Enter your age:  2a\n"
     ]
    },
    {
     "name": "stdout",
     "output_type": "stream",
     "text": [
      "Please enter a valid age.\n"
     ]
    },
    {
     "name": "stdin",
     "output_type": "stream",
     "text": [
      "Enter your age:  21\n"
     ]
    }
   ],
   "source": [
    "valid_input = False\n",
    "while not valid_input:\n",
    "    age = input(\"Enter your age: \")\n",
    "    if age.isdigit():\n",
    "        age = int(age)\n",
    "        valid_input = True\n",
    "    else:\n",
    "        print(\"Please enter a valid age.\")"
   ]
  },
  {
   "cell_type": "code",
   "execution_count": 10,
   "id": "fc8ea74f-a0b7-4855-80b1-cf55c4194d14",
   "metadata": {},
   "outputs": [
    {
     "name": "stdout",
     "output_type": "stream",
     "text": [
      "2\n",
      "4\n",
      "6\n",
      "8\n",
      "10\n"
     ]
    }
   ],
   "source": [
    "num = 1\n",
    "while num <= 5:\n",
    "    print(num * 2)\n",
    "    num += 1\n"
   ]
  },
  {
   "cell_type": "code",
   "execution_count": null,
   "id": "eedd8768-9f77-4491-8673-025a92fa25ed",
   "metadata": {},
   "outputs": [],
   "source": []
  }
 ],
 "metadata": {
  "kernelspec": {
   "display_name": "Python 3 (ipykernel)",
   "language": "python",
   "name": "python3"
  },
  "language_info": {
   "codemirror_mode": {
    "name": "ipython",
    "version": 3
   },
   "file_extension": ".py",
   "mimetype": "text/x-python",
   "name": "python",
   "nbconvert_exporter": "python",
   "pygments_lexer": "ipython3",
   "version": "3.11.7"
  }
 },
 "nbformat": 4,
 "nbformat_minor": 5
}
