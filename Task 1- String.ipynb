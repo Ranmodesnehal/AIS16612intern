{
 "cells": [
  {
   "cell_type": "markdown",
   "id": "e7d2de3c-dbac-4288-a278-4e53aa2e21fc",
   "metadata": {},
   "source": [
    "# String"
   ]
  },
  {
   "cell_type": "markdown",
   "id": "d29f4a31-4a6f-48e1-8fc6-6853728c4fb8",
   "metadata": {},
   "source": [
    "Strings in python are surrounded by either single quotation marks, or double quotation marks.  \n",
    "Example:  \n",
    "'hello' is the same as \"hello\".  \n",
    "We can display a string literal with the print() function.  \n",
    "We can use quotes inside a string, as long as they don't match the quotes surrounding the string.   \n"
   ]
  },
  {
   "cell_type": "code",
   "execution_count": 2,
   "id": "aa1c57e3-e23a-4d34-a2aa-f10244886f58",
   "metadata": {},
   "outputs": [
    {
     "name": "stdout",
     "output_type": "stream",
     "text": [
      "Hello\n",
      "Hello\n",
      "He is called 'Johnny'\n",
      "He is called \"Johnny\"\n"
     ]
    }
   ],
   "source": [
    "#Ex\n",
    "print(\"Hello\")\n",
    "print('Hello')\n",
    "#Ex\n",
    "print(\"He is called 'Johnny'\")\n",
    "print('He is called \"Johnny\"')"
   ]
  },
  {
   "cell_type": "markdown",
   "id": "88b9433f-cba4-4638-accc-7b2584a0a0ea",
   "metadata": {},
   "source": [
    "* Assign String to a Variable  \n",
    "  Assigning a string to a variable is done with the variable name followed by an equal sign and the string  \n",
    "* Multiline Strings   \n",
    "   We can assign a multiline string to a variable by using three double quotes Or three single quotes  "
   ]
  },
  {
   "cell_type": "code",
   "execution_count": 3,
   "id": "de9c8d49-a83a-4b26-ab38-189b7c4e511b",
   "metadata": {},
   "outputs": [
    {
     "name": "stdout",
     "output_type": "stream",
     "text": [
      "Hello\n",
      "He assign project to student. , Are yu excited ? \n"
     ]
    }
   ],
   "source": [
    "#Example\n",
    "a = \"Hello\"\n",
    "print(a)\n",
    "b=\"\"\"He assign project to student. , Are yu excited ? \"\"\"\n",
    "print(b)"
   ]
  },
  {
   "cell_type": "markdown",
   "id": "1badcd9d-19b8-4e9f-9947-66c9ea0a548f",
   "metadata": {},
   "source": [
    "* Looping Through a String  \n",
    "Since strings are arrays, we can loop through the characters in a string, with a for loop."
   ]
  },
  {
   "cell_type": "code",
   "execution_count": 1,
   "id": "7edb4c4e-8979-484d-b8f9-b1f79c1d22db",
   "metadata": {},
   "outputs": [
    {
     "name": "stdout",
     "output_type": "stream",
     "text": [
      "R\n",
      "a\n",
      "n\n",
      "m\n",
      "o\n",
      "d\n",
      "e\n"
     ]
    }
   ],
   "source": [
    "for x in \"Ranmode\":\n",
    "    print(x)\n",
    "    "
   ]
  },
  {
   "cell_type": "code",
   "execution_count": null,
   "id": "d3e2a368-0a10-4999-be39-62220f0c76d9",
   "metadata": {},
   "outputs": [],
   "source": []
  }
 ],
 "metadata": {
  "kernelspec": {
   "display_name": "Python 3 (ipykernel)",
   "language": "python",
   "name": "python3"
  },
  "language_info": {
   "codemirror_mode": {
    "name": "ipython",
    "version": 3
   },
   "file_extension": ".py",
   "mimetype": "text/x-python",
   "name": "python",
   "nbconvert_exporter": "python",
   "pygments_lexer": "ipython3",
   "version": "3.11.7"
  }
 },
 "nbformat": 4,
 "nbformat_minor": 5
}
