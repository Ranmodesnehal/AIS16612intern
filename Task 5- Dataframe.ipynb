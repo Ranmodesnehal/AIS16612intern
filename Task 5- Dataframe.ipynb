{
 "cells": [
  {
   "cell_type": "markdown",
   "id": "f4690fe1-5192-4b72-a447-d648c3c01eb9",
   "metadata": {},
   "source": [
    "# data frame\n",
    "A Pandas DataFrame is a 2 dimensional data structure, like a 2 dimensional array, or a table with rows and columns."
   ]
  },
  {
   "cell_type": "code",
   "execution_count": 1,
   "id": "18b15019-d2b8-4ce3-a0d4-2777eb37776a",
   "metadata": {},
   "outputs": [
    {
     "name": "stdout",
     "output_type": "stream",
     "text": [
      "   calories  duration\n",
      "0       420        50\n",
      "1       380        40\n",
      "2       390        45\n"
     ]
    }
   ],
   "source": [
    "# create a simple Pandas DataFrame:\n",
    "import pandas as pd\n",
    "data = {\n",
    "  \"calories\": [420, 380, 390],\n",
    "  \"duration\": [50, 40, 45]\n",
    "}\n",
    "#load data into a DataFrame object:\n",
    "df = pd.DataFrame(data)\n",
    "print(df) "
   ]
  },
  {
   "cell_type": "code",
   "execution_count": 3,
   "id": "21809c3c-23c4-4dba-ac3c-f9b8b5fec475",
   "metadata": {},
   "outputs": [
    {
     "name": "stdout",
     "output_type": "stream",
     "text": [
      "      Name  Age         City\n",
      "0    Alice   25     New York\n",
      "1      Bob   30  Los Angeles\n",
      "2  Charlie   35      Chicago\n"
     ]
    }
   ],
   "source": [
    "# From a Dictionary of Lists:\n",
    "import pandas as pd\n",
    "data = {'Name': ['Alice', 'Bob', 'Charlie'],\n",
    "        'Age': [25, 30, 35],\n",
    "        'City': ['New York', 'Los Angeles', 'Chicago']}\n",
    "df = pd.DataFrame(data)\n",
    "print(df)"
   ]
  },
  {
   "cell_type": "code",
   "execution_count": 4,
   "id": "a9020858-6934-43e1-a439-00d81c596e43",
   "metadata": {},
   "outputs": [
    {
     "name": "stdout",
     "output_type": "stream",
     "text": [
      "      Name  Age         City\n",
      "0    Alice   25     New York\n",
      "1      Bob   30  Los Angeles\n",
      "2  Charlie   35      Chicago\n"
     ]
    }
   ],
   "source": [
    "# From a List of Lists:\n",
    "import pandas as pd\n",
    "data = [['Alice', 25, 'New York'],\n",
    "        ['Bob', 30, 'Los Angeles'],\n",
    "        ['Charlie', 35, 'Chicago']]\n",
    "df = pd.DataFrame(data, columns=['Name', 'Age', 'City'])\n",
    "print(df)"
   ]
  },
  {
   "cell_type": "code",
   "execution_count": 6,
   "id": "dbf94e2e-03e1-4a4e-be1a-a4247296740e",
   "metadata": {},
   "outputs": [
    {
     "name": "stdout",
     "output_type": "stream",
     "text": [
      "   A  B  C\n",
      "0  1  2  3\n",
      "1  4  5  6\n",
      "2  7  8  9\n"
     ]
    }
   ],
   "source": [
    "# From NumPy Array:\n",
    "import pandas as pd\n",
    "import numpy as np\n",
    "data = np.array([[1, 2, 3], [4, 5, 6], [7, 8, 9]])\n",
    "df = pd.DataFrame(data, columns=['A', 'B', 'C'])\n",
    "print(df)"
   ]
  },
  {
   "cell_type": "markdown",
   "id": "47dd379d-3caa-45a4-a367-e77cbe726a08",
   "metadata": {},
   "source": [
    "# Dataframe read csv"
   ]
  },
  {
   "cell_type": "markdown",
   "id": "d53095ee-7249-4566-b69e-0ebf3e844cd6",
   "metadata": {},
   "source": [
    "* A simple way to store big data sets is to use CSV files (comma separated files).  \n",
    "* In our examples we will be using a CSV file type called 'data.csv'.   \n",
    "* Download data.csv. or Open data.csv\n",
    "* Syntax:   \n",
    "  pd.read_csv(filepath_or_buffer, sep=’ ,’ , header=’infer’,  index_col=None, usecols=None, engine=None, skiprows=None, nrows=None) "
   ]
  },
  {
   "cell_type": "code",
   "execution_count": 13,
   "id": "3911d04a-05b2-45c7-ac40-e6fc41151771",
   "metadata": {},
   "outputs": [
    {
     "name": "stdout",
     "output_type": "stream",
     "text": [
      "            name  energy (kcal/kJ)  water (g)  protein (g)\n",
      "0         Apple                 48      86.70         0.27\n",
      "1       Apricot                 48      86.40         1.40\n",
      "2       Avocado                160      73.23         2.00\n",
      "3        Banana                 89      74.91         1.09\n",
      "4  Blackberries                 43      88.15         1.39\n"
     ]
    }
   ],
   "source": [
    "# Load the CSV into a DataFrame:\n",
    "import pandas as pd\n",
    "df = pd.read_csv('C:/Users/PJ-COMPUTERS/Desktop/num.csv')\n",
    "print(df.to_string()) "
   ]
  },
  {
   "cell_type": "markdown",
   "id": "ea6905ba-7853-446c-96d5-2e3bbcdd6dd7",
   "metadata": {},
   "source": [
    "# Dataframe read xlsx  \n",
    "*  A simple way to store big data sets is to use xlsx files .   \n",
    "* save file as xlsx type."
   ]
  },
  {
   "cell_type": "code",
   "execution_count": 3,
   "id": "ecb37733-9bb2-4776-8404-9add6e6a5023",
   "metadata": {},
   "outputs": [
    {
     "name": "stdout",
     "output_type": "stream",
     "text": [
      "            name  energy (kcal/kJ)  water (g)  protein (g)\n",
      "0         Apple                 48      86.70         0.27\n",
      "1       Apricot                 48      86.40         1.40\n",
      "2       Avocado                160      73.23         2.00\n",
      "3        Banana                 89      74.91         1.09\n",
      "4  Blackberries                 43      88.15         1.39\n"
     ]
    }
   ],
   "source": [
    "import pandas as pd\n",
    "df_excel = pd.read_excel('C:/Users/PJ-COMPUTERS/Desktop/num1.xlsx') \n",
    "print(df_excel)"
   ]
  },
  {
   "cell_type": "markdown",
   "id": "b3c2cac8-bc7a-4a04-8ec9-70f99e78da97",
   "metadata": {},
   "source": [
    "# Create dataframe as matrix"
   ]
  },
  {
   "cell_type": "code",
   "execution_count": 14,
   "id": "ef30dbf9-88d9-43b1-a7e9-41e2c8a26b1a",
   "metadata": {},
   "outputs": [
    {
     "name": "stdout",
     "output_type": "stream",
     "text": [
      "   0  1  2\n",
      "0  1  2  3\n",
      "1  4  5  6\n",
      "2  7  8  9\n"
     ]
    }
   ],
   "source": [
    "import pandas as pd\n",
    "import numpy as np\n",
    "# Create a 2D NumPy array (matrix)\n",
    "matrix = np.array([[1, 2, 3],\n",
    "                   [4, 5, 6],\n",
    "                   [7, 8, 9]])\n",
    "# Create a DataFrame from the matrix\n",
    "df = pd.DataFrame(matrix)\n",
    "# Display the DataFrame\n",
    "print(df)"
   ]
  },
  {
   "cell_type": "code",
   "execution_count": 15,
   "id": "2bfd40c6-4017-4ad0-9bf0-a57ab2cbe4db",
   "metadata": {},
   "outputs": [
    {
     "name": "stdout",
     "output_type": "stream",
     "text": [
      "   A  B  C\n",
      "X  1  2  3\n",
      "Y  4  5  6\n",
      "Z  7  8  9\n"
     ]
    }
   ],
   "source": [
    "# Create a DataFrame with custom column names and index labels\n",
    "df = pd.DataFrame(matrix, columns=['A', 'B', 'C'], index=['X', 'Y', 'Z'])\n",
    "print(df)"
   ]
  },
  {
   "cell_type": "markdown",
   "id": "c3895f7e-4f59-4787-b185-acbab6d133fb",
   "metadata": {},
   "source": [
    "# Create dataframe as dictionary"
   ]
  },
  {
   "cell_type": "code",
   "execution_count": 16,
   "id": "28caf2b0-af19-4be4-aaa3-4273933c8938",
   "metadata": {},
   "outputs": [
    {
     "name": "stdout",
     "output_type": "stream",
     "text": [
      "      Name  Age         City\n",
      "0    Alice   25     New York\n",
      "1      Bob   30  Los Angeles\n",
      "2  Charlie   35      Chicago\n"
     ]
    }
   ],
   "source": [
    "import pandas as pd\n",
    "# Create a dictionary\n",
    "data = {'Name': ['Alice', 'Bob', 'Charlie'],\n",
    "        'Age': [25, 30, 35],\n",
    "        'City': ['New York', 'Los Angeles', 'Chicago']}\n",
    "df = pd.DataFrame(data)\n",
    "print(df)"
   ]
  },
  {
   "cell_type": "code",
   "execution_count": 18,
   "id": "5acea4cb-c628-47b1-9087-a34afa75eeaf",
   "metadata": {},
   "outputs": [
    {
     "name": "stdout",
     "output_type": "stream",
     "text": [
      "   Age     Name         City\n",
      "A   25    Alice     New York\n",
      "B   30      Bob  Los Angeles\n",
      "C   35  Charlie      Chicago\n"
     ]
    }
   ],
   "source": [
    "#Create a DataFrame with custom index and column order\n",
    "df = pd.DataFrame(data, index=['A', 'B', 'C'], columns=['Age', 'Name', 'City'])\n",
    "print(df)"
   ]
  },
  {
   "cell_type": "markdown",
   "id": "ee43a310-5f1b-468c-8ce0-e4e4d05e1fc3",
   "metadata": {},
   "source": [
    "# other ways to read file"
   ]
  },
  {
   "cell_type": "markdown",
   "id": "c53cd3a4-c2ad-44b0-a033-973dcb7fd0b9",
   "metadata": {},
   "source": [
    "* Reading a CSV file into a DataFrame  \n",
    "df_csv = pd.read_csv('data.csv')  \n",
    "\n",
    "* Reading an Excel file into a DataFrame  \n",
    "df_excel = pd.read_excel('data.xlsx', sheet_name='Sheet1')  \n",
    "\n",
    "* Reading a JSON file into a DataFrame  \n",
    "df_json = pd.read_json('data.json')  \n",
    "\n",
    "* Reading tables from an HTML file into a list of DataFrames   \n",
    "dfs_html = pd.read_html('data.html')  "
   ]
  },
  {
   "cell_type": "code",
   "execution_count": null,
   "id": "5ecdb8a1-384a-49f9-aa06-d9b8a498a046",
   "metadata": {},
   "outputs": [],
   "source": []
  }
 ],
 "metadata": {
  "kernelspec": {
   "display_name": "Python 3 (ipykernel)",
   "language": "python",
   "name": "python3"
  },
  "language_info": {
   "codemirror_mode": {
    "name": "ipython",
    "version": 3
   },
   "file_extension": ".py",
   "mimetype": "text/x-python",
   "name": "python",
   "nbconvert_exporter": "python",
   "pygments_lexer": "ipython3",
   "version": "3.11.7"
  }
 },
 "nbformat": 4,
 "nbformat_minor": 5
}
