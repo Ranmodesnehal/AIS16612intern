{
 "cells": [
  {
   "cell_type": "markdown",
   "id": "10a156eb-243a-4dae-9b4f-7950eafd678e",
   "metadata": {},
   "source": [
    "# Dictionary"
   ]
  },
  {
   "cell_type": "markdown",
   "id": "313593fc-d1fc-4ead-a2c1-72241896ba2e",
   "metadata": {},
   "source": [
    "* Dictionaries are used to store data values in key:value pairs.\n",
    "* A dictionary is a collection which is ordered, changeable and do not allow duplicates.\n",
    "* Dictionaries are written with curly brackets.\n",
    "* It have keys and values:"
   ]
  },
  {
   "cell_type": "code",
   "execution_count": 1,
   "id": "15b6f193-0ed4-4a3b-accd-db0e9b0f418e",
   "metadata": {},
   "outputs": [
    {
     "name": "stdout",
     "output_type": "stream",
     "text": [
      "{'brand': 'Ford', 'model': 'Mustang', 'year': 1964}\n"
     ]
    }
   ],
   "source": [
    "# Create and print a dictionary:\n",
    "dict = {\n",
    "  \"brand\": \"Ford\",\n",
    "  \"model\": \"Mustang\",\n",
    "  \"year\": 1964\n",
    "}\n",
    "print(dict)"
   ]
  },
  {
   "cell_type": "markdown",
   "id": "82c16605-d49a-49c2-bfef-8c9209f4565c",
   "metadata": {},
   "source": [
    "* Dictionary Items  \n",
    "Dictionary items are ordered, changeable, and do not allow duplicates.    \n",
    "Dictionary items are presented in key:value pairs.    \n",
    "referred to by using the key name.    "
   ]
  },
  {
   "cell_type": "code",
   "execution_count": 2,
   "id": "b9e360d5-5ef0-490f-92fc-d6dd98549df8",
   "metadata": {},
   "outputs": [
    {
     "name": "stdout",
     "output_type": "stream",
     "text": [
      "Ford\n"
     ]
    }
   ],
   "source": [
    "#Print the \"brand\" value of the dictionary:\n",
    "\n",
    "thisdict = {\n",
    "  \"brand\": \"Ford\",\n",
    "  \"model\": \"Mustang\",\n",
    "  \"year\": 1964\n",
    "}\n",
    "print(thisdict[\"brand\"])"
   ]
  },
  {
   "cell_type": "markdown",
   "id": "5bcc8a6a-6895-471b-8197-a586f077e81c",
   "metadata": {},
   "source": [
    "* Ordered or Unordered?    \n",
    "we say that ordered when it have a defined order, and that order will not change.   \n",
    "Unordered items do not have a defined order, you cannot refer to an item by using an index.   \n",
    "\n",
    "* Changeable   \n",
    "Dictionaries are changeable, meaning that we can change, add or remove items after the dictionary has been created.   \n",
    "\n",
    "* Duplicates Not Allowed   \n",
    "Dictionaries cannot have two items with the same key.       "
   ]
  },
  {
   "cell_type": "code",
   "execution_count": 3,
   "id": "b00adb6f-77c0-4ef3-8fe4-a94f335a7aef",
   "metadata": {},
   "outputs": [
    {
     "name": "stdout",
     "output_type": "stream",
     "text": [
      "{'brand': 'Ford', 'model': 'Mustang', 'year': 2020}\n"
     ]
    }
   ],
   "source": [
    "# Duplicate values will overwrite existing values:\n",
    "\n",
    "dict = {\n",
    "  \"brand\": \"Ford\",\n",
    "  \"model\": \"Mustang\",\n",
    "  \"year\": 1964,\n",
    "  \"year\": 2020\n",
    "}\n",
    "print(dict)"
   ]
  },
  {
   "cell_type": "code",
   "execution_count": 6,
   "id": "9e39a814-6c53-486e-aeea-4cf8c8402422",
   "metadata": {},
   "outputs": [
    {
     "name": "stdout",
     "output_type": "stream",
     "text": [
      "3\n"
     ]
    }
   ],
   "source": [
    "# To determine how many items a dictionary has, use the len() function:\n",
    "print(len(dict))\n"
   ]
  },
  {
   "cell_type": "markdown",
   "id": "5d814328-0cf4-4ea8-973a-325a36171496",
   "metadata": {},
   "source": [
    "* Dictionary Items - Data Types\n",
    "1. String\n",
    "2. int\n",
    "3.  boolean\n",
    "4.  list data types"
   ]
  },
  {
   "cell_type": "code",
   "execution_count": 7,
   "id": "3bfb4495-08d0-4bb0-904b-3fbc47b2d132",
   "metadata": {},
   "outputs": [
    {
     "name": "stdout",
     "output_type": "stream",
     "text": [
      "<class 'dict'>\n"
     ]
    }
   ],
   "source": [
    "# Ex\n",
    "thisdict = {\n",
    "  \"brand\": \"Ford\",\n",
    "  \"electric\": False,\n",
    "  \"year\": 1964,\n",
    "  \"colors\": [\"red\", \"white\", \"blue\"]\n",
    "}\n",
    "print(type(thisdict))"
   ]
  },
  {
   "cell_type": "markdown",
   "id": "4815607a-3fda-46c7-9660-a0e874ba36b1",
   "metadata": {},
   "source": [
    "* The dict() Constructor   \n",
    "It is also possible to use the dict() constructor to make a dictionary."
   ]
  },
  {
   "cell_type": "code",
   "execution_count": 1,
   "id": "305aabc7-806c-4fdc-baf8-514b00765406",
   "metadata": {},
   "outputs": [
    {
     "name": "stdout",
     "output_type": "stream",
     "text": [
      "{'name': 'John', 'age': 36, 'country': 'Norway'}\n"
     ]
    }
   ],
   "source": [
    "# Example\n",
    "thisdict = dict(name = \"John\", age = 36, country = \"Norway\")\n",
    "print(thisdict)"
   ]
  },
  {
   "cell_type": "markdown",
   "id": "86814f63-8b2f-4c37-87d4-db88341a2a0d",
   "metadata": {},
   "source": [
    "# Dictionary Methods\n",
    "Python has a set of built-in methods that you can use on dictionaries."
   ]
  },
  {
   "cell_type": "raw",
   "id": "459ba416-0784-41ca-bf3d-b609b3dce332",
   "metadata": {},
   "source": [
    "Method\t         Description     \n",
    "clear()          Removes all the elements from the dictionary  \n",
    "copy()           Returns a copy of the dictionary   \n",
    "fromkeys()\t     Returns a dictionary with the specified keys and value   \n",
    "get()\t         Returns the value of the specified key   \n",
    "items()\t         Returns a list containing a tuple for each key value pair   \n",
    "keys()\t         Returns a list containing the dictionary's keys    \n",
    "pop()\t         Removes the element with the specified key   \n",
    "popitem()\t     Removes the last inserted key-value pair    \n",
    "setdefault()\t Returns the value of the specified key. If the key does not exist: insert the key, with the specified value   \n",
    "update()\t     Updates the dictionary with the specified key-value pairs    \n",
    "values()\t     Returns a list of all the values in the dictionary   "
   ]
  },
  {
   "cell_type": "markdown",
   "id": "5406c5dd-447b-47a5-8886-a446992ab3f8",
   "metadata": {},
   "source": [
    "* Examples of Methodes"
   ]
  },
  {
   "cell_type": "code",
   "execution_count": 2,
   "id": "528498f8-3c07-45ae-8664-5e2cb4283b36",
   "metadata": {},
   "outputs": [
    {
     "name": "stdout",
     "output_type": "stream",
     "text": [
      "{}\n"
     ]
    }
   ],
   "source": [
    "#Remove all elements from the car list:\n",
    "car = {\n",
    "  \"brand\": \"Ford\",\n",
    "  \"model\": \"Mustang\",\n",
    "  \"year\": 1964\n",
    "}\n",
    "car.clear()\n",
    "print(car)"
   ]
  },
  {
   "cell_type": "code",
   "execution_count": 3,
   "id": "a6554289-d7be-408a-bd1d-3d690d0067ca",
   "metadata": {},
   "outputs": [
    {
     "name": "stdout",
     "output_type": "stream",
     "text": [
      "{'brand': 'Ford', 'model': 'Mustang', 'year': 1964}\n"
     ]
    }
   ],
   "source": [
    "#Copy the car dictionary:\n",
    "car = {\n",
    "  \"brand\": \"Ford\",\n",
    "  \"model\": \"Mustang\",\n",
    "  \"year\": 1964\n",
    "}\n",
    "x = car.copy()\n",
    "print(x)"
   ]
  },
  {
   "cell_type": "code",
   "execution_count": 4,
   "id": "996f63cb-b5c4-4fc5-9d01-bf97c83f626e",
   "metadata": {},
   "outputs": [
    {
     "name": "stdout",
     "output_type": "stream",
     "text": [
      "{'key1': 0, 'key2': 0, 'key3': 0}\n"
     ]
    }
   ],
   "source": [
    "#Create a dictionary with 3 keys, all with the value 0:\n",
    "x = ('key1', 'key2', 'key3')\n",
    "y = 0\n",
    "thisdict = dict.fromkeys(x, y)\n",
    "print(thisdict)"
   ]
  },
  {
   "cell_type": "code",
   "execution_count": 5,
   "id": "30e8b8ad-b75c-4b30-899d-5843c5e1f528",
   "metadata": {},
   "outputs": [
    {
     "name": "stdout",
     "output_type": "stream",
     "text": [
      "Mustang\n"
     ]
    }
   ],
   "source": [
    "#Get the value of the \"model\" item:\n",
    "car = {\n",
    "  \"brand\": \"Ford\",\n",
    "  \"model\": \"Mustang\",\n",
    "  \"year\": 1964\n",
    "}\n",
    "x = car.get(\"model\")\n",
    "print(x)"
   ]
  },
  {
   "cell_type": "code",
   "execution_count": 6,
   "id": "b494abc8-796d-4868-ba63-3d8242c44f05",
   "metadata": {},
   "outputs": [
    {
     "name": "stdout",
     "output_type": "stream",
     "text": [
      "dict_items([('brand', 'Ford'), ('model', 'Mustang'), ('year', 1964)])\n"
     ]
    }
   ],
   "source": [
    "#Return the dictionary's key-value pairs:\n",
    "car = {\n",
    "  \"brand\": \"Ford\",\n",
    "  \"model\": \"Mustang\",\n",
    "  \"year\": 1964\n",
    "}\n",
    "x = car.items()\n",
    "print(x)"
   ]
  },
  {
   "cell_type": "code",
   "execution_count": 7,
   "id": "60b95034-8d4b-40ee-b95d-f9c2dc5e4b8b",
   "metadata": {},
   "outputs": [
    {
     "name": "stdout",
     "output_type": "stream",
     "text": [
      "dict_keys(['brand', 'model', 'year'])\n"
     ]
    }
   ],
   "source": [
    "#Return the keys:\n",
    "car = {\n",
    "  \"brand\": \"Ford\",\n",
    "  \"model\": \"Mustang\",\n",
    "  \"year\": 1964\n",
    "}\n",
    "x = car.keys()\n",
    "print(x)"
   ]
  },
  {
   "cell_type": "code",
   "execution_count": 8,
   "id": "fc84fd03-3bd9-420e-a050-3f1533274826",
   "metadata": {},
   "outputs": [
    {
     "name": "stdout",
     "output_type": "stream",
     "text": [
      "{'brand': 'Ford', 'year': 1964}\n"
     ]
    }
   ],
   "source": [
    "#Remove \"model\" from the dictionary:\n",
    "car = {\n",
    "  \"brand\": \"Ford\",\n",
    "  \"model\": \"Mustang\",\n",
    "  \"year\": 1964\n",
    "}\n",
    "car.pop(\"model\")\n",
    "print(car)"
   ]
  },
  {
   "cell_type": "code",
   "execution_count": 9,
   "id": "7b46b409-5dc8-492d-8cd2-d58fa69b52c6",
   "metadata": {},
   "outputs": [
    {
     "name": "stdout",
     "output_type": "stream",
     "text": [
      "{'brand': 'Ford', 'model': 'Mustang'}\n"
     ]
    }
   ],
   "source": [
    "#Remove the last item from the dictionary:\n",
    "car = {\n",
    "  \"brand\": \"Ford\",\n",
    "  \"model\": \"Mustang\",\n",
    "  \"year\": 1964\n",
    "}\n",
    "car.popitem()\n",
    "print(car)"
   ]
  },
  {
   "cell_type": "code",
   "execution_count": 10,
   "id": "5a974d7b-8608-4f5b-ab75-184404196d78",
   "metadata": {},
   "outputs": [
    {
     "name": "stdout",
     "output_type": "stream",
     "text": [
      "Mustang\n"
     ]
    }
   ],
   "source": [
    "#Get the value of the \"model\" item:\n",
    "car = {\n",
    "  \"brand\": \"Ford\",\n",
    "  \"model\": \"Mustang\",\n",
    "  \"year\": 1964\n",
    "}\n",
    "x = car.setdefault(\"model\", \"Bronco\")\n",
    "print(x)"
   ]
  },
  {
   "cell_type": "code",
   "execution_count": 11,
   "id": "a841189a-5378-4ddb-884a-764951d1d055",
   "metadata": {},
   "outputs": [
    {
     "name": "stdout",
     "output_type": "stream",
     "text": [
      "{'brand': 'Ford', 'model': 'Mustang', 'year': 1964, 'color': 'White'}\n"
     ]
    }
   ],
   "source": [
    "#Insert an item to the dictionary:\n",
    "car = {\n",
    "  \"brand\": \"Ford\",\n",
    "  \"model\": \"Mustang\",\n",
    "  \"year\": 1964\n",
    "}\n",
    "car.update({\"color\": \"White\"})\n",
    "print(car)"
   ]
  },
  {
   "cell_type": "code",
   "execution_count": 12,
   "id": "01898066-22f2-4d70-8534-7030ebd15f53",
   "metadata": {},
   "outputs": [
    {
     "name": "stdout",
     "output_type": "stream",
     "text": [
      "dict_values(['Ford', 'Mustang', 1964])\n"
     ]
    }
   ],
   "source": [
    "#Return the values:\n",
    "car = {\n",
    "  \"brand\": \"Ford\",\n",
    "  \"model\": \"Mustang\",\n",
    "  \"year\": 1964\n",
    "}\n",
    "x = car.values()\n",
    "print(x)"
   ]
  },
  {
   "cell_type": "code",
   "execution_count": null,
   "id": "48b5a0e1-2430-4f80-bf4e-5dac6882522c",
   "metadata": {},
   "outputs": [],
   "source": []
  }
 ],
 "metadata": {
  "kernelspec": {
   "display_name": "Python 3 (ipykernel)",
   "language": "python",
   "name": "python3"
  },
  "language_info": {
   "codemirror_mode": {
    "name": "ipython",
    "version": 3
   },
   "file_extension": ".py",
   "mimetype": "text/x-python",
   "name": "python",
   "nbconvert_exporter": "python",
   "pygments_lexer": "ipython3",
   "version": "3.11.7"
  }
 },
 "nbformat": 4,
 "nbformat_minor": 5
}
