{
 "cells": [
  {
   "cell_type": "markdown",
   "id": "f12d118b-106c-401d-a0d3-81fa2d760b8c",
   "metadata": {},
   "source": [
    "# Statistical user define function"
   ]
  },
  {
   "cell_type": "markdown",
   "id": "9fc73d03-1901-4bfd-b1a8-e9b7dd58a7f2",
   "metadata": {},
   "source": [
    "All the functions that are written by any of us come under the category of user-defined functions. Below are the steps for writing user-defined functions in Python.    \n",
    "* In Python, a def keyword is used to declare user-defined function.   \n",
    "* An indented block of statements follows the function name and arguments which contains the body of the function.\n",
    "\n",
    "* Syntex  \n",
    "def function_name(parameters):  \n",
    "    #What the function does goes here   \n",
    "    return result   "
   ]
  },
  {
   "cell_type": "code",
   "execution_count": 5,
   "id": "3b024d23-3573-49c7-ad72-fb32b29627bc",
   "metadata": {},
   "outputs": [
    {
     "name": "stdout",
     "output_type": "stream",
     "text": [
      "The average of list values is :  2\n",
      "The Median :  2.0\n"
     ]
    }
   ],
   "source": [
    "# initializing list \n",
    "li = [1, 2, 3, 3, 2, 2, 2, 1]  \n",
    "# using mean() to calculate average of list elements \n",
    "import statistics \n",
    "M=statistics.mean(li)\n",
    "M1=statistics.median(li)\n",
    "print (\"The average of list values is : \",M) \n",
    "print (\"The Median : \",M1) "
   ]
  },
  {
   "cell_type": "code",
   "execution_count": 6,
   "id": "cd26667c-c7c9-4e0b-b0da-9036b8a1fa97",
   "metadata": {},
   "outputs": [
    {
     "name": "stdout",
     "output_type": "stream",
     "text": [
      "The sum is 11\n"
     ]
    }
   ],
   "source": [
    "# the use of user-defined functions\n",
    "def add_numbers(x,y):\n",
    "   sum = x + y\n",
    "   return sum\n",
    "num1 = 5\n",
    "num2 = 6\n",
    "print(\"The sum is\", add_numbers(num1, num2))"
   ]
  },
  {
   "cell_type": "code",
   "execution_count": 13,
   "id": "5b57fe11-20a2-4982-be28-587d03e8a612",
   "metadata": {},
   "outputs": [
    {
     "name": "stdout",
     "output_type": "stream",
     "text": [
      "The sum of square of x and y is:\n"
     ]
    },
    {
     "data": {
      "text/plain": [
       "13"
      ]
     },
     "execution_count": 13,
     "metadata": {},
     "output_type": "execute_result"
    }
   ],
   "source": [
    "def num(x,y):\n",
    "    return(x*x+y*y)\n",
    "print(\"The sum of square of x and y is:\")\n",
    "num(2,3)\n"
   ]
  },
  {
   "cell_type": "code",
   "execution_count": 8,
   "id": "abcbb363-f9f3-472e-8ec2-008a554148e0",
   "metadata": {},
   "outputs": [
    {
     "data": {
      "text/plain": [
       "27.5"
      ]
     },
     "execution_count": 8,
     "metadata": {},
     "output_type": "execute_result"
    }
   ],
   "source": [
    "# Mean\n",
    "def mean(l1):\n",
    "    if len(l1) == 0:\n",
    "       return 0\n",
    "    return (sum(l1)/len(l1))\n",
    "l1=[11,29,30,40]\n",
    "mean(l1)"
   ]
  },
  {
   "cell_type": "code",
   "execution_count": 6,
   "id": "9404082b-ecfd-4a85-b517-2e617d82f929",
   "metadata": {},
   "outputs": [
    {
     "data": {
      "text/plain": [
       "17.5"
      ]
     },
     "execution_count": 6,
     "metadata": {},
     "output_type": "execute_result"
    }
   ],
   "source": [
    "# median\n",
    "def my_median(sample):\n",
    "    sorted_sample = sorted(sample)\n",
    "    n = len(sorted_sample)\n",
    "    if n % 2 == 0:\n",
    "        mid1 = sorted_sample[n // 2 - 1]\n",
    "        mid2 = sorted_sample[n // 2]\n",
    "        return (mid1 + mid2) / 2\n",
    "    else:\n",
    "        return sorted_sample[n // 2]\n",
    "sample=[22,13,66,5,12,40]\n",
    "my_median(sample)\n"
   ]
  },
  {
   "cell_type": "code",
   "execution_count": 16,
   "id": "e6d06bef-b8e1-4b1c-874c-e005c57e1d40",
   "metadata": {},
   "outputs": [
    {
     "name": "stdout",
     "output_type": "stream",
     "text": [
      "Range is 20\n"
     ]
    }
   ],
   "source": [
    "# Range\n",
    "def my_range(sample):\n",
    "    return max(sample) - min(sample)\n",
    "sample=[12,6,4,2,22,10]\n",
    "print(\"Range is\",my_range(sample))\n"
   ]
  },
  {
   "cell_type": "code",
   "execution_count": 23,
   "id": "ac4b669d-a440-4c6d-a1d6-9ca6da6e48c7",
   "metadata": {},
   "outputs": [
    {
     "data": {
      "text/plain": [
       "-0.61848210709772"
      ]
     },
     "execution_count": 23,
     "metadata": {},
     "output_type": "execute_result"
    }
   ],
   "source": [
    "# Correlation\n",
    "import numpy as np\n",
    "def cov(x, y): \n",
    "    mean_x,mean_y = np.mean(x), np.mean(y) \n",
    "    n = len(x) \n",
    "    return sum((x - mean_x) * (y - mean_y)) / n \n",
    "def corr(x,y):\n",
    "    x_std= np.std (x)\n",
    "    y_std= np.std (y)\n",
    "    return cov(x,y) / (np.std(x)*np.std(y))\n",
    "    x=[12,2,20,4]\n",
    "    y=[20,40,2,6]\n",
    "corr(x,y)"
   ]
  },
  {
   "cell_type": "code",
   "execution_count": 65,
   "id": "7c514cd6-a0c1-411e-84a6-3ae69d1ca388",
   "metadata": {},
   "outputs": [
    {
     "name": "stdout",
     "output_type": "stream",
     "text": [
      "Covariance is -87.33333333333333\n"
     ]
    }
   ],
   "source": [
    "# covariance\n",
    "def covariance(x,y):\n",
    "     n = len(x) \n",
    "     mean_x =sum(x) /n\n",
    "     mean_y =sum(y)/n\n",
    "     covariance =sum((xi - mean_x) * (yi - mean_y) for xi, yi in zip(x,y))/(n-1)\n",
    "     return covariance\n",
    "x=[12,2,20,4]\n",
    "y=[20,40,2,6]\n",
    "print(\"Covariance is\",covariance(x,y))"
   ]
  },
  {
   "cell_type": "code",
   "execution_count": 57,
   "id": "bd8e8c65-e36a-43b7-a6b4-eb68917529c6",
   "metadata": {},
   "outputs": [
    {
     "name": "stdout",
     "output_type": "stream",
     "text": [
      "Variance is : <function var at 0x000001E7B6246340>\n"
     ]
    }
   ],
   "source": [
    "# Variance\n",
    "def var(x):\n",
    "    if not x:\n",
    "        raise valueError(\"The data list should not be empty\")\n",
    "    n=len(x)\n",
    "    mean=sum(x)/n\n",
    "    return sum(x-mean)**2/n\n",
    "x=[12,2,20,4]\n",
    "print(\"Variance is :\",var)"
   ]
  },
  {
   "cell_type": "code",
   "execution_count": 59,
   "id": "98816521-4f54-4080-a9b1-570ad27c6503",
   "metadata": {},
   "outputs": [
    {
     "name": "stdout",
     "output_type": "stream",
     "text": [
      "Variance is : <function std_dev at 0x000001E7B6247C40>\n"
     ]
    }
   ],
   "source": [
    "# standard deviation\n",
    "def std_dev(x):\n",
    "    if not x:\n",
    "        raise valueError(\"The data list should not be empty\")\n",
    "    n=len(x)\n",
    "    mean=sum(x)/n\n",
    "    varaince=sum(x-mean)**2/n\n",
    "    return variance**0.5\n",
    "x=[12,2,20,4]\n",
    "print(\"Variance is :\",std_dev)"
   ]
  },
  {
   "cell_type": "code",
   "execution_count": 27,
   "id": "c4af4ae8-3b43-4938-9195-abded3beb796",
   "metadata": {},
   "outputs": [
    {
     "name": "stdout",
     "output_type": "stream",
     "text": [
      "Mode is : <function mode at 0x000001E7B61FE0C0>\n"
     ]
    }
   ],
   "source": [
    "# Mode\n",
    "def mode(data):\n",
    "    freq={}\n",
    "    for value in data:\n",
    "        if value in freq:\n",
    "            freq[value]+=1\n",
    "        else:\n",
    "            freq[value]=1\n",
    "            mode_value=max(freq,key=freq.get)\n",
    "            return mode_value\n",
    "data=[12,2,40,2,4,2,22,5,2]\n",
    "print(\"Mode is :\",mode)\n"
   ]
  },
  {
   "cell_type": "code",
   "execution_count": 66,
   "id": "b41442aa-d036-4fc6-b83b-d087b94cfb8d",
   "metadata": {},
   "outputs": [
    {
     "name": "stdout",
     "output_type": "stream",
     "text": [
      "skewness is : <function skewness at 0x000001E7B61FE160>\n"
     ]
    }
   ],
   "source": [
    "# skewness\n",
    "def skewness(x):\n",
    "    if not x:\n",
    "        raise valueError(\"The data list should not be empty\")\n",
    "    n=len(x)\n",
    "    mean=sum(x)/n\n",
    "    sd=std_dev(x)\n",
    "    return (sum((x-mean)**3 for i in x)/n)/(sd **3)\n",
    "x=[12,2,20,4]\n",
    "print(\"skewness is :\",skewness)"
   ]
  },
  {
   "cell_type": "code",
   "execution_count": null,
   "id": "895574b7-2d37-45f4-a645-65c488d7e368",
   "metadata": {},
   "outputs": [],
   "source": []
  }
 ],
 "metadata": {
  "kernelspec": {
   "display_name": "Python 3 (ipykernel)",
   "language": "python",
   "name": "python3"
  },
  "language_info": {
   "codemirror_mode": {
    "name": "ipython",
    "version": 3
   },
   "file_extension": ".py",
   "mimetype": "text/x-python",
   "name": "python",
   "nbconvert_exporter": "python",
   "pygments_lexer": "ipython3",
   "version": "3.11.7"
  }
 },
 "nbformat": 4,
 "nbformat_minor": 5
}
