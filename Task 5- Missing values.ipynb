{
 "cells": [
  {
   "cell_type": "markdown",
   "id": "4103d480-2ed2-4781-8d4b-5e9ea4e9e5d8",
   "metadata": {},
   "source": [
    "# Missing values"
   ]
  },
  {
   "cell_type": "markdown",
   "id": "f7905368-1058-4063-ad2e-0e431f828cb8",
   "metadata": {},
   "source": [
    "* Checking Missing Values:  \n",
    "We can use the isnull() method to check for missing values in a DataFrame or Series."
   ]
  },
  {
   "cell_type": "code",
   "execution_count": 3,
   "id": "937d7223-38dc-45d8-8781-115276e47426",
   "metadata": {},
   "outputs": [
    {
     "name": "stdout",
     "output_type": "stream",
     "text": [
      "Missing Values:\n",
      "       A      B\n",
      "0  False  False\n",
      "1  False   True\n",
      "2   True  False\n",
      "3  False  False\n"
     ]
    }
   ],
   "source": [
    "import pandas as pd\n",
    "# Creating a sample DataFrame with missing values\n",
    "data = {'A': [1, 2, None, 4], 'B': [5, None, 7, 8]}\n",
    "df = pd.DataFrame(data)\n",
    "# Checking for missing values\n",
    "print(\"Missing Values:\")\n",
    "print(df.isnull())"
   ]
  },
  {
   "cell_type": "markdown",
   "id": "88bba276-28a7-45e6-b511-fc2c6da957f2",
   "metadata": {},
   "source": [
    "* Dropping Missing Values:  \n",
    "We can use the dropna() method to drop rows or columns with missing values."
   ]
  },
  {
   "cell_type": "code",
   "execution_count": 4,
   "id": "eba24d93-a02f-4d0d-af26-3d501fc7f4ff",
   "metadata": {},
   "outputs": [
    {
     "name": "stdout",
     "output_type": "stream",
     "text": [
      "\n",
      "After dropping missing values by row:\n",
      "     A    B\n",
      "0  1.0  5.0\n",
      "3  4.0  8.0\n"
     ]
    }
   ],
   "source": [
    "# Dropping missing values by row\n",
    "df_drop_row = df.dropna(axis=0)\n",
    "print(\"\\nAfter dropping missing values by row:\")\n",
    "print(df_drop_row)"
   ]
  },
  {
   "cell_type": "code",
   "execution_count": 5,
   "id": "ff4101af-74d0-443a-95ab-3ee877377e92",
   "metadata": {},
   "outputs": [
    {
     "name": "stdout",
     "output_type": "stream",
     "text": [
      "\n",
      "After dropping missing values by column:\n",
      "Empty DataFrame\n",
      "Columns: []\n",
      "Index: [0, 1, 2, 3]\n"
     ]
    }
   ],
   "source": [
    "# Dropping missing values by column\n",
    "df_drop_column = df.dropna(axis=1)\n",
    "print(\"\\nAfter dropping missing values by column:\")\n",
    "print(df_drop_column)"
   ]
  },
  {
   "cell_type": "markdown",
   "id": "9fe168f7-36d1-4724-9a84-a7707e12b593",
   "metadata": {},
   "source": [
    "* Filling Missing Values:  \n",
    "We can use the fillna() method to fill missing values with a specified value, such as mean or median."
   ]
  },
  {
   "cell_type": "code",
   "execution_count": 6,
   "id": "1265e80b-3953-4b8d-8fc5-14fba5679c0c",
   "metadata": {},
   "outputs": [
    {
     "name": "stdout",
     "output_type": "stream",
     "text": [
      "\n",
      "After filling missing values with mean:\n",
      "          A         B\n",
      "0  1.000000  5.000000\n",
      "1  2.000000  6.666667\n",
      "2  2.333333  7.000000\n",
      "3  4.000000  8.000000\n"
     ]
    }
   ],
   "source": [
    "# Filling missing values with mean\n",
    "df_fill_mean = df.fillna(df.mean())\n",
    "print(\"\\nAfter filling missing values with mean:\")\n",
    "print(df_fill_mean)\n"
   ]
  },
  {
   "cell_type": "code",
   "execution_count": 7,
   "id": "09aac405-ccd2-48be-acfb-fc3b83f19553",
   "metadata": {},
   "outputs": [
    {
     "name": "stdout",
     "output_type": "stream",
     "text": [
      "\n",
      "After filling missing values with median:\n",
      "     A    B\n",
      "0  1.0  5.0\n",
      "1  2.0  7.0\n",
      "2  2.0  7.0\n",
      "3  4.0  8.0\n"
     ]
    }
   ],
   "source": [
    "# Filling missing values with median\n",
    "df_fill_median = df.fillna(df.median())\n",
    "print(\"\\nAfter filling missing values with median:\")\n",
    "print(df_fill_median)"
   ]
  },
  {
   "cell_type": "code",
   "execution_count": 2,
   "id": "ee987330-66e3-4e2b-97a1-b8aac82fdc41",
   "metadata": {},
   "outputs": [
    {
     "name": "stdout",
     "output_type": "stream",
     "text": [
      "Missing Values:\n",
      "       A      B\n",
      "0  False  False\n",
      "1  False   True\n",
      "2   True  False\n",
      "3  False  False\n",
      "4  False  False\n",
      "\n",
      "After dropping missing values by row:\n",
      "     A    B\n",
      "0  1.0  5.0\n",
      "3  4.0  7.0\n",
      "4  9.0  8.0\n",
      "\n",
      "After dropping missing values by column:\n",
      "Empty DataFrame\n",
      "Columns: []\n",
      "Index: [0, 1, 2, 3, 4]\n",
      "\n",
      "After filling missing values with mean:\n",
      "     A    B\n",
      "0  1.0  5.0\n",
      "1  2.0  5.5\n",
      "2  4.0  2.0\n",
      "3  4.0  7.0\n",
      "4  9.0  8.0\n",
      "\n",
      "After filling missing values with median:\n",
      "     A    B\n",
      "0  1.0  5.0\n",
      "1  2.0  6.0\n",
      "2  3.0  2.0\n",
      "3  4.0  7.0\n",
      "4  9.0  8.0\n"
     ]
    }
   ],
   "source": [
    "# Example\n",
    "import pandas as pd\n",
    "# Creating a sample DataFrame with missing values\n",
    "data = {'A': [1, 2, None, 4, 9 ], 'B': [5, None, 2 , 7, 8]}\n",
    "df = pd.DataFrame(data)\n",
    "\n",
    "# Checking for missing values\n",
    "print(\"Missing Values:\")\n",
    "print(df.isnull())\n",
    "\n",
    "# Dropping missing values by row\n",
    "df_drop_row = df.dropna(axis=0)\n",
    "print(\"\\nAfter dropping missing values by row:\")\n",
    "print(df_drop_row)\n",
    "\n",
    "# Dropping missing values by column\n",
    "df_drop_column = df.dropna(axis=1)\n",
    "print(\"\\nAfter dropping missing values by column:\")\n",
    "print(df_drop_column)\n",
    "\n",
    "# Filling missing values with mean\n",
    "df_fill_mean = df.fillna(df.mean())\n",
    "print(\"\\nAfter filling missing values with mean:\")\n",
    "print(df_fill_mean)\n",
    "\n",
    "# Filling missing values with median\n",
    "df_fill_median = df.fillna(df.median())\n",
    "print(\"\\nAfter filling missing values with median:\")\n",
    "print(df_fill_median)"
   ]
  },
  {
   "cell_type": "code",
   "execution_count": null,
   "id": "8ffd6799-b6e4-4e55-a245-62b3be890b74",
   "metadata": {},
   "outputs": [],
   "source": []
  }
 ],
 "metadata": {
  "kernelspec": {
   "display_name": "Python 3 (ipykernel)",
   "language": "python",
   "name": "python3"
  },
  "language_info": {
   "codemirror_mode": {
    "name": "ipython",
    "version": 3
   },
   "file_extension": ".py",
   "mimetype": "text/x-python",
   "name": "python",
   "nbconvert_exporter": "python",
   "pygments_lexer": "ipython3",
   "version": "3.11.7"
  }
 },
 "nbformat": 4,
 "nbformat_minor": 5
}
