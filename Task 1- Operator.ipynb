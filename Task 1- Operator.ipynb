{
 "cells": [
  {
   "cell_type": "markdown",
   "id": "a4668f5b-4052-4a36-814c-8b53040a21d8",
   "metadata": {},
   "source": [
    "# Operators in Python"
   ]
  },
  {
   "cell_type": "raw",
   "id": "0716b5d1-bb63-4b5e-bb4f-c0b7bfa988d3",
   "metadata": {},
   "source": [
    "Operators are used to perform operations on variables and values.\n",
    "There are six operators are as follows.\n",
    "1. Arithematic operators\n",
    "2. Assignment operators\n",
    "3. Comparision operators \n",
    "4. Logical operators \n",
    "5. Identity operators\n",
    "6. Membership operators"
   ]
  },
  {
   "cell_type": "markdown",
   "id": "237f1724-d300-4436-b9d8-efa39fbc8765",
   "metadata": {},
   "source": [
    "# 1. Arithematic operator"
   ]
  },
  {
   "cell_type": "code",
   "execution_count": null,
   "id": "cee79902-3762-4563-b8d0-9e4091ff21c5",
   "metadata": {},
   "outputs": [],
   "source": [
    "1. Arithematic operators (+ , - , * , / , ** (power) , % (modulus) )"
   ]
  },
  {
   "cell_type": "code",
   "execution_count": 6,
   "id": "fe4cdd7d-b7d8-4060-abcf-052792bc4245",
   "metadata": {},
   "outputs": [
    {
     "data": {
      "text/plain": [
       "12"
      ]
     },
     "execution_count": 6,
     "metadata": {},
     "output_type": "execute_result"
    }
   ],
   "source": [
    "#Ex.\n",
    "a=10+2\n",
    "a"
   ]
  },
  {
   "cell_type": "code",
   "execution_count": 7,
   "id": "d2215891-81e7-42a6-a20b-f5da4263c73c",
   "metadata": {},
   "outputs": [
    {
     "data": {
      "text/plain": [
       "3.3333333333333335"
      ]
     },
     "execution_count": 7,
     "metadata": {},
     "output_type": "execute_result"
    }
   ],
   "source": [
    "10/3"
   ]
  },
  {
   "cell_type": "code",
   "execution_count": 8,
   "id": "21dbf72b-2687-4014-886f-806cbf842535",
   "metadata": {},
   "outputs": [
    {
     "data": {
      "text/plain": [
       "27"
      ]
     },
     "execution_count": 8,
     "metadata": {},
     "output_type": "execute_result"
    }
   ],
   "source": [
    "3**3"
   ]
  },
  {
   "cell_type": "code",
   "execution_count": 10,
   "id": "89f4c698-4228-47a4-a2b8-cedbfb60de88",
   "metadata": {},
   "outputs": [
    {
     "data": {
      "text/plain": [
       "2"
      ]
     },
     "execution_count": 10,
     "metadata": {},
     "output_type": "execute_result"
    }
   ],
   "source": [
    "12%5"
   ]
  },
  {
   "cell_type": "markdown",
   "id": "019860f4-fb65-43a3-9026-71ee2dbcfa6e",
   "metadata": {},
   "source": [
    "# 2. Assignment operator"
   ]
  },
  {
   "cell_type": "markdown",
   "id": "716f4914-ce07-45e6-a7e1-f939d923906d",
   "metadata": {},
   "source": [
    "2. Assignment operators (+= , -= , *= )"
   ]
  },
  {
   "cell_type": "code",
   "execution_count": 11,
   "id": "53a8da7b-5e1a-4872-a907-4fced20fbfc2",
   "metadata": {},
   "outputs": [
    {
     "name": "stdout",
     "output_type": "stream",
     "text": [
      "35\n"
     ]
    }
   ],
   "source": [
    "x=25\n",
    "x+=10\n",
    "print(x)"
   ]
  },
  {
   "cell_type": "code",
   "execution_count": 13,
   "id": "b51251d7-0068-4546-b11a-23cef8f1c1d6",
   "metadata": {},
   "outputs": [
    {
     "data": {
      "text/plain": [
       "40"
      ]
     },
     "execution_count": 13,
     "metadata": {},
     "output_type": "execute_result"
    }
   ],
   "source": [
    "x+=5\n",
    "x"
   ]
  },
  {
   "cell_type": "markdown",
   "id": "eda2d434-ce57-42d5-9bd6-9f2e5a78de6c",
   "metadata": {},
   "source": [
    "# 3. Comparision operator"
   ]
  },
  {
   "cell_type": "markdown",
   "id": "2305844b-b043-46d0-ae22-b59f7cbb3984",
   "metadata": {},
   "source": [
    "3. Comparision operators ( < , > , == , != , <= , >= )"
   ]
  },
  {
   "cell_type": "code",
   "execution_count": 14,
   "id": "d2c93465-2ba9-4bbf-897d-a0c18356cbe6",
   "metadata": {},
   "outputs": [
    {
     "data": {
      "text/plain": [
       "False"
      ]
     },
     "execution_count": 14,
     "metadata": {},
     "output_type": "execute_result"
    }
   ],
   "source": [
    "#Ex\n",
    "2!=2"
   ]
  },
  {
   "cell_type": "code",
   "execution_count": 15,
   "id": "21e71002-9cff-4941-9a54-4179d05cb61c",
   "metadata": {},
   "outputs": [
    {
     "data": {
      "text/plain": [
       "True"
      ]
     },
     "execution_count": 15,
     "metadata": {},
     "output_type": "execute_result"
    }
   ],
   "source": [
    "2<=5"
   ]
  },
  {
   "cell_type": "markdown",
   "id": "906f277f-509d-4126-96ca-55fbea189c7c",
   "metadata": {},
   "source": [
    "# 4. Logical operator"
   ]
  },
  {
   "cell_type": "markdown",
   "id": "161c48b4-64ff-4081-b5e8-39a28dee1dae",
   "metadata": {},
   "source": [
    "4. Logical operators (and, or , not)  \n",
    "  And - Return True if both statements are true  \n",
    "  or - Return True if one of the two stetments are true  \n",
    "  not - Return True if the result is False  "
   ]
  },
  {
   "cell_type": "code",
   "execution_count": 16,
   "id": "cd823545-3a26-4a8e-bb20-e3fd5613d16a",
   "metadata": {},
   "outputs": [
    {
     "data": {
      "text/plain": [
       "True"
      ]
     },
     "execution_count": 16,
     "metadata": {},
     "output_type": "execute_result"
    }
   ],
   "source": [
    "#Ex\n",
    "x=10\n",
    "x<5 or x>2"
   ]
  },
  {
   "cell_type": "code",
   "execution_count": 17,
   "id": "7776a5b1-0742-4e2d-b53f-a671696d5c6e",
   "metadata": {},
   "outputs": [
    {
     "data": {
      "text/plain": [
       "False"
      ]
     },
     "execution_count": 17,
     "metadata": {},
     "output_type": "execute_result"
    }
   ],
   "source": [
    "x<5 and x>2"
   ]
  },
  {
   "cell_type": "code",
   "execution_count": 18,
   "id": "de97b09a-9ff8-46a7-8a63-a557070e1b9a",
   "metadata": {},
   "outputs": [
    {
     "data": {
      "text/plain": [
       "True"
      ]
     },
     "execution_count": 18,
     "metadata": {},
     "output_type": "execute_result"
    }
   ],
   "source": [
    "not(x<5 and x>2)"
   ]
  },
  {
   "cell_type": "markdown",
   "id": "2df038d4-0de6-4ccf-afc3-129f00c3563b",
   "metadata": {},
   "source": [
    "# 5. Identity operator"
   ]
  },
  {
   "cell_type": "markdown",
   "id": "8a4b616b-9569-4ea3-ae91-8e6a1bdad4db",
   "metadata": {},
   "source": [
    "5. Identity operators (is , is not)"
   ]
  },
  {
   "cell_type": "code",
   "execution_count": 1,
   "id": "06be56c3-1f07-4f43-af96-e58d1411c456",
   "metadata": {},
   "outputs": [
    {
     "name": "stderr",
     "output_type": "stream",
     "text": [
      "<>:2: SyntaxWarning: \"is\" with a literal. Did you mean \"==\"?\n",
      "<>:2: SyntaxWarning: \"is\" with a literal. Did you mean \"==\"?\n",
      "C:\\Users\\PJ-COMPUTERS\\AppData\\Local\\Temp\\ipykernel_5592\\566017054.py:2: SyntaxWarning: \"is\" with a literal. Did you mean \"==\"?\n",
      "  x is 50\n"
     ]
    },
    {
     "data": {
      "text/plain": [
       "True"
      ]
     },
     "execution_count": 1,
     "metadata": {},
     "output_type": "execute_result"
    }
   ],
   "source": [
    "x=50\n",
    "x is 50\n",
    "#or\n",
    "x==50"
   ]
  },
  {
   "cell_type": "code",
   "execution_count": 20,
   "id": "ea8ea7d9-6eb2-4fb4-9ae9-1f663e423d92",
   "metadata": {},
   "outputs": [
    {
     "name": "stderr",
     "output_type": "stream",
     "text": [
      "<>:1: SyntaxWarning: \"is not\" with a literal. Did you mean \"!=\"?\n",
      "<>:1: SyntaxWarning: \"is not\" with a literal. Did you mean \"!=\"?\n",
      "C:\\Users\\PJ-COMPUTERS\\AppData\\Local\\Temp\\ipykernel_10348\\218090364.py:1: SyntaxWarning: \"is not\" with a literal. Did you mean \"!=\"?\n",
      "  x is not 50\n"
     ]
    },
    {
     "data": {
      "text/plain": [
       "False"
      ]
     },
     "execution_count": 20,
     "metadata": {},
     "output_type": "execute_result"
    }
   ],
   "source": [
    "x is not 50"
   ]
  },
  {
   "cell_type": "markdown",
   "id": "f7cdd5f3-8787-4eb1-b6c2-69ad2e70c768",
   "metadata": {},
   "source": [
    "# 6. Membership operator"
   ]
  },
  {
   "cell_type": "markdown",
   "id": "eca5c5ea-ff5e-46b3-8a4a-74a2d220a6e2",
   "metadata": {},
   "source": [
    "6. Membership operators ( in , not in)"
   ]
  },
  {
   "cell_type": "code",
   "execution_count": 21,
   "id": "11d91edc-bf16-47fd-b77a-1db1eae56bc5",
   "metadata": {},
   "outputs": [
    {
     "data": {
      "text/plain": [
       "True"
      ]
     },
     "execution_count": 21,
     "metadata": {},
     "output_type": "execute_result"
    }
   ],
   "source": [
    "#Ex\n",
    "x=(21,30,5,55,20)\n",
    "40 not in x"
   ]
  },
  {
   "cell_type": "code",
   "execution_count": 22,
   "id": "8d6aaa9f-08a9-418a-a999-2c89a2cb4528",
   "metadata": {},
   "outputs": [
    {
     "data": {
      "text/plain": [
       "False"
      ]
     },
     "execution_count": 22,
     "metadata": {},
     "output_type": "execute_result"
    }
   ],
   "source": [
    "40 in x"
   ]
  },
  {
   "cell_type": "markdown",
   "id": "4520a54f-2d0d-4767-af12-aa65aa62f039",
   "metadata": {},
   "source": [
    "# 7. Bitwise operator"
   ]
  },
  {
   "cell_type": "raw",
   "id": "bbd9b958-c0f1-4c82-b527-64cc68bc3885",
   "metadata": {},
   "source": [
    "7. Bitwise operators (& (and),|(or) ,<< ,>> ,^ (xor), ~(not))"
   ]
  },
  {
   "cell_type": "code",
   "execution_count": 1,
   "id": "20224b72-e3a3-4cda-bdac-44ef8003e6f2",
   "metadata": {},
   "outputs": [
    {
     "name": "stdout",
     "output_type": "stream",
     "text": [
      "2\n"
     ]
    }
   ],
   "source": [
    "print(6 & 3)"
   ]
  },
  {
   "cell_type": "code",
   "execution_count": 2,
   "id": "9ca06da2-258d-4366-9e6c-2cf010f821ba",
   "metadata": {},
   "outputs": [
    {
     "name": "stdout",
     "output_type": "stream",
     "text": [
      "7\n"
     ]
    }
   ],
   "source": [
    "print(6 | 3)"
   ]
  },
  {
   "cell_type": "code",
   "execution_count": null,
   "id": "1e7a1857-1403-461f-883c-5890e136e4a5",
   "metadata": {},
   "outputs": [],
   "source": []
  }
 ],
 "metadata": {
  "kernelspec": {
   "display_name": "Python 3 (ipykernel)",
   "language": "python",
   "name": "python3"
  },
  "language_info": {
   "codemirror_mode": {
    "name": "ipython",
    "version": 3
   },
   "file_extension": ".py",
   "mimetype": "text/x-python",
   "name": "python",
   "nbconvert_exporter": "python",
   "pygments_lexer": "ipython3",
   "version": "3.11.7"
  }
 },
 "nbformat": 4,
 "nbformat_minor": 5
}
