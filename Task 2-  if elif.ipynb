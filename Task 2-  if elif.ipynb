{
 "cells": [
  {
   "cell_type": "markdown",
   "id": "51d338e8-24dd-4536-9d6c-bbd24bf61ff7",
   "metadata": {},
   "source": [
    "# if elif"
   ]
  },
  {
   "cell_type": "markdown",
   "id": "54d2e54d-d426-4d39-9b85-19c7e7ae851e",
   "metadata": {},
   "source": [
    "The elif keyword is Python's way of saying \"if the previous conditions were not true, then try this condition\".  \n",
    "However, if we need to make a choice between more than two alternatives, we use the if...elif...else statement.  \n",
    "\n",
    "* Syntax  \n",
    "if condition1:  \n",
    "    #code block 1  \n",
    "elif condition2:    \n",
    "    #code block 2  \n",
    "else:   \n",
    "    #code block 3\n",
    "\n",
    "  Here,    \n",
    "\r\n",
    "if condition1 - This checks if condition1 is True. If it is, the program executes code block         1.\r\n",
    "elif condition2 - If condition1 is not True, the program checks condition2. If condition2 is True, it executes code bloc        2.\r\n",
    "else - If neither condition1 nor condition2 is True, the program defaults to executing code blo      k 3."
   ]
  },
  {
   "cell_type": "code",
   "execution_count": 5,
   "id": "647608ef-fee0-4853-b169-beaa0d5a7e36",
   "metadata": {},
   "outputs": [
    {
     "name": "stdout",
     "output_type": "stream",
     "text": [
      "Zero\n"
     ]
    }
   ],
   "source": [
    "#1.Example\n",
    "number = 0\n",
    "if number > 0:\n",
    "    print('Positive number')\n",
    "elif number <= 0:\n",
    "    print('Negative number')\n",
    "else:\n",
    "    print('Zero')"
   ]
  },
  {
   "cell_type": "code",
   "execution_count": 7,
   "id": "8f527442-3461-4ff5-9ce2-84055c0a3b7b",
   "metadata": {},
   "outputs": [
    {
     "name": "stdout",
     "output_type": "stream",
     "text": [
      "a is greater than b\n"
     ]
    }
   ],
   "source": [
    "#2.Example\n",
    "a = 200\n",
    "b = 33\n",
    "if b > a:\n",
    "  print(\"b is greater than a\")\n",
    "elif a == b:\n",
    "  print(\"a and b are equal\")\n",
    "else:\n",
    "    print(\"a is greater than b\")"
   ]
  },
  {
   "cell_type": "code",
   "execution_count": 11,
   "id": "44c91b7e-468e-483e-8291-62e236ed0cde",
   "metadata": {},
   "outputs": [
    {
     "name": "stdin",
     "output_type": "stream",
     "text": [
      "Enter your marks: 85\n"
     ]
    },
    {
     "name": "stdout",
     "output_type": "stream",
     "text": [
      "Student is passed with 1st class\n"
     ]
    }
   ],
   "source": [
    "#3.\n",
    "Marks=int(input(\"Enter your marks:\"))\n",
    "if Marks < 35:\n",
    "    print(\"student is fail\")\n",
    "elif 35 <= Marks < 80:\n",
    "    print(\"Student is passed\")\n",
    "else:\n",
    "    print(\"Student is passed with 1st class\")\n",
    "   "
   ]
  },
  {
   "cell_type": "code",
   "execution_count": 16,
   "id": "399365b8-07d0-495d-823b-21d9979cb5b5",
   "metadata": {},
   "outputs": [
    {
     "name": "stdout",
     "output_type": "stream",
     "text": [
      "price is less than 100\n"
     ]
    }
   ],
   "source": [
    "# 4.\n",
    "price = 50\n",
    "if price > 100:\n",
    "    print(\"price is greater than 100\")\n",
    "elif price == 100:\n",
    "    print(\"price is 100\")\n",
    "else:\n",
    "    print(\"price is less than 100\")"
   ]
  },
  {
   "cell_type": "code",
   "execution_count": 15,
   "id": "93ac41a1-b361-42cd-a0aa-433245a97c9a",
   "metadata": {},
   "outputs": [
    {
     "name": "stdout",
     "output_type": "stream",
     "text": [
      "price is 100\n"
     ]
    }
   ],
   "source": [
    "# 5.\n",
    "price = 100\n",
    "if price > 100:\n",
    "    print(\"price is greater than 100\")\n",
    "elif price == 100:\n",
    "    print(\"price is 100\")\n",
    "elif price < 100:\n",
    "    print(\"price is less than 100\")"
   ]
  },
  {
   "cell_type": "code",
   "execution_count": 3,
   "id": "38e9a459-a42e-475d-82bf-9ed94d955b01",
   "metadata": {},
   "outputs": [
    {
     "name": "stdin",
     "output_type": "stream",
     "text": [
      "Enter a fruit name: Banana\n"
     ]
    },
    {
     "name": "stdout",
     "output_type": "stream",
     "text": [
      "It's a banana.\n"
     ]
    }
   ],
   "source": [
    "# 6.\n",
    "fruit =input(\"Enter a fruit name:\")\n",
    "if fruit == \"Apple\":\n",
    "    print(\"It's an apple.\")\n",
    "elif fruit == \"Banana\":\n",
    "    print(\"It's a banana.\")\n",
    "elif fruit == \"Orange\":\n",
    "    print(\"It's an orange.\")\n",
    "else:\n",
    "    print(\"It's an unknown fruit.\")"
   ]
  },
  {
   "cell_type": "code",
   "execution_count": 4,
   "id": "3d688edd-d8b9-4066-b124-65b581557b9b",
   "metadata": {},
   "outputs": [
    {
     "name": "stdout",
     "output_type": "stream",
     "text": [
      "Right angle\n"
     ]
    }
   ],
   "source": [
    "# 7.\n",
    "angle = 90\n",
    "if angle < 90:\n",
    "    print(\"Acute angle\")\n",
    "elif angle == 90:\n",
    "    print(\"Right angle\")\n",
    "else:\n",
    "    print(\"Obtuse angle\")"
   ]
  },
  {
   "cell_type": "code",
   "execution_count": 6,
   "id": "8f249859-7cf8-4d5f-8f43-6b4c3121eaf3",
   "metadata": {},
   "outputs": [
    {
     "name": "stdin",
     "output_type": "stream",
     "text": [
      "Enter a today's temprecture: 28\n"
     ]
    },
    {
     "name": "stdout",
     "output_type": "stream",
     "text": [
      "Warm\n"
     ]
    }
   ],
   "source": [
    "#8.\n",
    "temperature =int(input(\"Enter a today's temprecture:\"))\n",
    "if temperature < 0:\n",
    "    print(\"Freezing\")\n",
    "elif 0 <= temperature < 10:\n",
    "    print(\"Cold\")\n",
    "elif 10 <= temperature < 20:\n",
    "    print(\"Cool\")\n",
    "elif 20 <= temperature < 30:\n",
    "    print(\"Warm\")\n",
    "else:\n",
    "    print(\"Hot\")\n"
   ]
  },
  {
   "cell_type": "code",
   "execution_count": 7,
   "id": "9628b92d-9aec-40c7-b8be-b2912e8b02b0",
   "metadata": {},
   "outputs": [
    {
     "name": "stdin",
     "output_type": "stream",
     "text": [
      "Enter a time: 8\n"
     ]
    },
    {
     "name": "stdout",
     "output_type": "stream",
     "text": [
      "Good morning!\n"
     ]
    }
   ],
   "source": [
    "# 9.\n",
    "hour = int(input(\"Enter a time:\"))\n",
    "if hour < 12:\n",
    "    print(\"Good morning!\")\n",
    "elif hour < 18:\n",
    "    print(\"Good afternoon!\")\n",
    "else:\n",
    "    print(\"Good evening!\")"
   ]
  },
  {
   "cell_type": "code",
   "execution_count": 12,
   "id": "48a27f17-1d86-4616-be28-1ba37fbb3590",
   "metadata": {},
   "outputs": [
    {
     "name": "stdout",
     "output_type": "stream",
     "text": [
      "Adult\n"
     ]
    }
   ],
   "source": [
    "# 10.\n",
    "age = 25\n",
    "if age < 18:\n",
    "    print(\"Minor\")\n",
    "elif 18 <= age < 65:\n",
    "    print(\"Adult\")\n",
    "else:\n",
    "    print(\"Senior\")"
   ]
  },
  {
   "cell_type": "code",
   "execution_count": null,
   "id": "f9328017-b10c-4edd-a219-99686c4b952a",
   "metadata": {},
   "outputs": [],
   "source": []
  }
 ],
 "metadata": {
  "kernelspec": {
   "display_name": "Python 3 (ipykernel)",
   "language": "python",
   "name": "python3"
  },
  "language_info": {
   "codemirror_mode": {
    "name": "ipython",
    "version": 3
   },
   "file_extension": ".py",
   "mimetype": "text/x-python",
   "name": "python",
   "nbconvert_exporter": "python",
   "pygments_lexer": "ipython3",
   "version": "3.11.7"
  }
 },
 "nbformat": 4,
 "nbformat_minor": 5
}
