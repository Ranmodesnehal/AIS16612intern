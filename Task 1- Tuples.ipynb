{
 "cells": [
  {
   "cell_type": "markdown",
   "id": "2d6c910b-2d2e-457a-922c-d0b980490a08",
   "metadata": {},
   "source": [
    "# Tuple\n",
    "Tuples are used to store multiple items in a single variable. \n",
    "Tuple is one of 4 built-in data types in Python used to store collections of data, the other 3 are List, Set, and Dictionary, all with different qualities and usage.  \n",
    "A tuple is a collection which is ordered and unchangeable.\n",
    "Tuples are written with round brackets."
   ]
  },
  {
   "cell_type": "code",
   "execution_count": 1,
   "id": "225cf840-8b48-4766-8ba2-5ddb3bbade6d",
   "metadata": {},
   "outputs": [
    {
     "name": "stdout",
     "output_type": "stream",
     "text": [
      "('Apple', 'Banana', 'Gava')\n"
     ]
    }
   ],
   "source": [
    "my=(\"Apple\",\"Banana\",\"Gava\")\n",
    "print(my)"
   ]
  },
  {
   "cell_type": "markdown",
   "id": "ba296f3e-2e6c-4d7e-891d-b5aaf39f1a9b",
   "metadata": {},
   "source": [
    "* Tuple Length  \n",
    "To determine how many items a tuple has, use the len() function:"
   ]
  },
  {
   "cell_type": "code",
   "execution_count": 2,
   "id": "193f4eb7-3cb0-41cd-b9c0-e7c5be324f0f",
   "metadata": {},
   "outputs": [
    {
     "name": "stdout",
     "output_type": "stream",
     "text": [
      "3\n"
     ]
    }
   ],
   "source": [
    "name=(\"Apple\",\"Banana\",\"Cherry\")\n",
    "print(len(name))"
   ]
  },
  {
   "cell_type": "markdown",
   "id": "0486cb0a-24f4-415b-96f7-32eea6f2fac9",
   "metadata": {},
   "source": [
    "* Create Tuple With One Item    \n",
    "To create a tuple with only one item, you have to add a comma after the item, otherwise Python will not recognize it as a tuple."
   ]
  },
  {
   "cell_type": "code",
   "execution_count": 5,
   "id": "3b15def3-b41a-4d9e-a872-28d1b61a6d8e",
   "metadata": {},
   "outputs": [
    {
     "name": "stdout",
     "output_type": "stream",
     "text": [
      "<class 'tuple'>\n",
      "<class 'str'>\n"
     ]
    }
   ],
   "source": [
    "#Ex\n",
    "name=(\"Apple\",)\n",
    "print(type(name))\n",
    "my=(\"Apple\")\n",
    "print(type(my))"
   ]
  },
  {
   "cell_type": "markdown",
   "id": "bc5bd853-13fd-4a84-95d1-b538a22f2d2c",
   "metadata": {},
   "source": [
    "* Tuple Items - Data Types   \n",
    "Tuple items can be of any data type:\n",
    "* String \n",
    "* int \n",
    "* boolean \n"
   ]
  },
  {
   "cell_type": "code",
   "execution_count": 6,
   "id": "37602ce6-c380-4150-8e54-bcfc0b82f6f9",
   "metadata": {},
   "outputs": [
    {
     "name": "stdout",
     "output_type": "stream",
     "text": [
      "<class 'tuple'>\n",
      "<class 'tuple'>\n",
      "<class 'tuple'>\n"
     ]
    }
   ],
   "source": [
    "#Ex\n",
    "tuple1 = (\"apple\", \"banana\", \"cherry\")\n",
    "tuple2 = (1, 5, 7, 9, 3)\n",
    "tuple3 = (True, False, False)\n",
    "print(type(tuple1))\n",
    "print(type(tuple2))\n",
    "print(type(tuple3))"
   ]
  },
  {
   "cell_type": "code",
   "execution_count": 7,
   "id": "b7699829-f91f-4d47-8ec7-7c930e2797ef",
   "metadata": {},
   "outputs": [
    {
     "name": "stdout",
     "output_type": "stream",
     "text": [
      "<class 'tuple'>\n"
     ]
    }
   ],
   "source": [
    "# mixed tuple data type\n",
    "tuple = (\"abc\", 34, True, 40, \"male\")\n",
    "print(type(tuple))"
   ]
  },
  {
   "cell_type": "markdown",
   "id": "cd6636b0-e152-4618-9cba-ae2d0615cfc1",
   "metadata": {},
   "source": [
    "* The tuple() Constructor    \n",
    "It is also possible to use the tuple() constructor to make a tuple.\n"
   ]
  },
  {
   "cell_type": "code",
   "execution_count": 1,
   "id": "ef45dd8f-e61f-41bd-b67a-f94ad524f038",
   "metadata": {},
   "outputs": [
    {
     "name": "stdout",
     "output_type": "stream",
     "text": [
      "('apple', 'banana', 'cherry')\n"
     ]
    }
   ],
   "source": [
    "#Ex\n",
    "thistuple = tuple((\"apple\", \"banana\", \"cherry\")) \n",
    "print(thistuple)"
   ]
  },
  {
   "cell_type": "markdown",
   "id": "7a5d6f00-77c7-41df-bd23-f59a5ec55bc2",
   "metadata": {},
   "source": [
    "* Tuple Methods  \n",
    "Python has two built-in methods that you can use on tuples.  "
   ]
  },
  {
   "cell_type": "code",
   "execution_count": null,
   "id": "6d4117d8-81ce-41b4-8ef9-1be5a46d7755",
   "metadata": {},
   "outputs": [],
   "source": [
    "Method\t                        Description\n",
    "count()\t             Returns the number of times a specified value occurs in a tuple\n",
    "index()\t             Searches the tuple for a specified value and returns the position of where it was found"
   ]
  },
  {
   "cell_type": "markdown",
   "id": "53ab2db0-5b12-45d1-96b5-3fcaa6a027b6",
   "metadata": {},
   "source": [
    "* Examples of tuple methods"
   ]
  },
  {
   "cell_type": "code",
   "execution_count": 2,
   "id": "009fa352-5f7e-4d90-8e08-e5f2a60a888b",
   "metadata": {},
   "outputs": [
    {
     "name": "stdout",
     "output_type": "stream",
     "text": [
      "2\n"
     ]
    }
   ],
   "source": [
    "#Return the number of times the value 5 appears in the tuple:\n",
    "thistuple = (1, 3, 7, 8, 7, 5, 4, 6, 8, 5)\n",
    "x = thistuple.count(5)\n",
    "print(x)"
   ]
  },
  {
   "cell_type": "code",
   "execution_count": 3,
   "id": "08c9844c-4077-433a-a276-16d397ae01bf",
   "metadata": {},
   "outputs": [
    {
     "name": "stdout",
     "output_type": "stream",
     "text": [
      "3\n"
     ]
    }
   ],
   "source": [
    "#Search for the first occurrence of the value 8, and return its position:\n",
    "thistuple = (1, 3, 7, 8, 7, 5, 4, 6, 8, 5)\n",
    "x = thistuple.index(8)\n",
    "print(x)"
   ]
  },
  {
   "cell_type": "code",
   "execution_count": null,
   "id": "d9238198-93f3-4be3-a710-9055dce5760a",
   "metadata": {},
   "outputs": [],
   "source": []
  }
 ],
 "metadata": {
  "kernelspec": {
   "display_name": "Python 3 (ipykernel)",
   "language": "python",
   "name": "python3"
  },
  "language_info": {
   "codemirror_mode": {
    "name": "ipython",
    "version": 3
   },
   "file_extension": ".py",
   "mimetype": "text/x-python",
   "name": "python",
   "nbconvert_exporter": "python",
   "pygments_lexer": "ipython3",
   "version": "3.11.7"
  }
 },
 "nbformat": 4,
 "nbformat_minor": 5
}
