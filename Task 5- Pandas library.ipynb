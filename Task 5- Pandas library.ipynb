{
 "cells": [
  {
   "cell_type": "markdown",
   "id": "c2b2a693-105d-4644-8e1c-e6f9b587d56e",
   "metadata": {},
   "source": [
    "# Pandas Tutorial"
   ]
  },
  {
   "cell_type": "markdown",
   "id": "ecc9fb59-e503-404f-b461-511a2d5e07d1",
   "metadata": {},
   "source": [
    "* Pandas is a Python library.\n",
    "* Pandas is used to analyze data.\n",
    "* Import a pandas library as pd   \n",
    "We have created 14 tutorial pages for you to learn more about Pandas."
   ]
  },
  {
   "cell_type": "markdown",
   "id": "397b6aaf-1e99-4366-ab3e-dd7370d3d541",
   "metadata": {},
   "source": [
    "# Introduction"
   ]
  },
  {
   "cell_type": "markdown",
   "id": "e9467378-73e1-4a4a-ba0b-6b81f020cebb",
   "metadata": {},
   "source": [
    "* Pandas is a Python library used for working with data sets.  \n",
    "* It has functions for analyzing, cleaning, exploring, and manipulating data.   \n",
    "* The name \"Pandas\" has a reference to both \"Panel Data\", and \"Python Data Analysis\" and was created by Wes McKinney in 2008.  "
   ]
  },
  {
   "cell_type": "markdown",
   "id": "6b91f477-626c-45bc-bf90-565ac5f4ca8a",
   "metadata": {},
   "source": [
    "# Use Pandas\n",
    "* Pandas allows us to analyze big data and make conclusions based on statistical theories.  \n",
    "* Pandas can clean messy data sets, and make them readable and relevant.  \n",
    "* Relevant data is very important in data science.  "
   ]
  },
  {
   "cell_type": "markdown",
   "id": "a3e9258a-cf68-4fe8-817e-0220bb703c27",
   "metadata": {},
   "source": [
    "# What Can Pandas Do?\n",
    "Pandas gives you answers about the data. Like:  \n",
    "* Is there a correlation between two or more columns?  \n",
    "* What is average value?  \n",
    "* Max value?  \n",
    "* Min value?  \n",
    "Pandas are also able to delete rows that are not relevant, or contains wrong values, like empty or NULL values. This is called cleaning the data."
   ]
  },
  {
   "cell_type": "markdown",
   "id": "65249c2e-0aea-4639-9412-b83c3a6b448e",
   "metadata": {},
   "source": [
    "# Installation of Pandas\n",
    "If you have Python and PIP already installed on a system, then installation of Pandas is very easy.   \n",
    "Install it using this command:   \n",
    "C:\\Users\\Your Name>pip install pandas   "
   ]
  },
  {
   "cell_type": "markdown",
   "id": "3ac4f9df-e3c8-443b-a224-9cdf3afa81bf",
   "metadata": {},
   "source": [
    "# Import Pandas\n",
    "Once Pandas is installed, import it in your applications by adding the import keyword:  \n",
    "import pandas"
   ]
  },
  {
   "cell_type": "code",
   "execution_count": 2,
   "id": "4db9ee01-dd08-4feb-bf98-7ec1ec1b6e4e",
   "metadata": {},
   "outputs": [
    {
     "name": "stdout",
     "output_type": "stream",
     "text": [
      "    cars  passings\n",
      "0    BMW         3\n",
      "1  Volvo         7\n",
      "2   Ford         2\n"
     ]
    }
   ],
   "source": [
    "import pandas\n",
    "mydataset = {\n",
    "  'cars': [\"BMW\", \"Volvo\", \"Ford\"],\n",
    "  'passings': [3, 7, 2]\n",
    "}\n",
    "\n",
    "myvar = pandas.DataFrame(mydataset)\n",
    "print(myvar)"
   ]
  },
  {
   "cell_type": "code",
   "execution_count": null,
   "id": "6661d8f0-bbc5-4d61-93d1-b67905198279",
   "metadata": {},
   "outputs": [],
   "source": []
  }
 ],
 "metadata": {
  "kernelspec": {
   "display_name": "Python 3 (ipykernel)",
   "language": "python",
   "name": "python3"
  },
  "language_info": {
   "codemirror_mode": {
    "name": "ipython",
    "version": 3
   },
   "file_extension": ".py",
   "mimetype": "text/x-python",
   "name": "python",
   "nbconvert_exporter": "python",
   "pygments_lexer": "ipython3",
   "version": "3.11.7"
  }
 },
 "nbformat": 4,
 "nbformat_minor": 5
}
